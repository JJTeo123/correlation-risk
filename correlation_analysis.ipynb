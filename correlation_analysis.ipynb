{
 "cells": [
  {
   "cell_type": "code",
   "execution_count": null,
   "id": "4488193d",
   "metadata": {},
   "outputs": [
    {
     "name": "stdout",
     "output_type": "stream",
     "text": [
      "Requirement already satisfied: yfinance in c:\\users\\genin\\miniconda3\\lib\\site-packages (0.2.61)\n",
      "Requirement already satisfied: pandas in c:\\users\\genin\\miniconda3\\lib\\site-packages (2.2.3)\n",
      "Requirement already satisfied: matplotlib in c:\\users\\genin\\miniconda3\\lib\\site-packages (3.10.3)\n",
      "Requirement already satisfied: seaborn in c:\\users\\genin\\miniconda3\\lib\\site-packages (0.13.2)\n",
      "Requirement already satisfied: streamlit in c:\\users\\genin\\miniconda3\\lib\\site-packages (1.45.1)\n",
      "Requirement already satisfied: riskfolio-lib in c:\\users\\genin\\miniconda3\\lib\\site-packages (7.0.1)\n",
      "Requirement already satisfied: numpy>=1.16.5 in c:\\users\\genin\\miniconda3\\lib\\site-packages (from yfinance) (2.2.6)\n",
      "Requirement already satisfied: requests>=2.31 in c:\\users\\genin\\miniconda3\\lib\\site-packages (from yfinance) (2.32.3)\n",
      "Requirement already satisfied: multitasking>=0.0.7 in c:\\users\\genin\\miniconda3\\lib\\site-packages (from yfinance) (0.0.11)\n",
      "Requirement already satisfied: platformdirs>=2.0.0 in c:\\users\\genin\\appdata\\roaming\\python\\python313\\site-packages (from yfinance) (4.3.8)\n",
      "Requirement already satisfied: pytz>=2022.5 in c:\\users\\genin\\miniconda3\\lib\\site-packages (from yfinance) (2025.2)\n",
      "Requirement already satisfied: frozendict>=2.3.4 in c:\\users\\genin\\miniconda3\\lib\\site-packages (from yfinance) (2.4.2)\n",
      "Requirement already satisfied: peewee>=3.16.2 in c:\\users\\genin\\miniconda3\\lib\\site-packages (from yfinance) (3.18.1)\n",
      "Requirement already satisfied: beautifulsoup4>=4.11.1 in c:\\users\\genin\\miniconda3\\lib\\site-packages (from yfinance) (4.13.4)\n",
      "Requirement already satisfied: curl_cffi>=0.7 in c:\\users\\genin\\miniconda3\\lib\\site-packages (from yfinance) (0.11.1)\n",
      "Requirement already satisfied: protobuf>=3.19.0 in c:\\users\\genin\\miniconda3\\lib\\site-packages (from yfinance) (6.31.0)\n",
      "Requirement already satisfied: websockets>=13.0 in c:\\users\\genin\\miniconda3\\lib\\site-packages (from yfinance) (15.0.1)\n",
      "Requirement already satisfied: python-dateutil>=2.8.2 in c:\\users\\genin\\appdata\\roaming\\python\\python313\\site-packages (from pandas) (2.9.0.post0)\n",
      "Requirement already satisfied: tzdata>=2022.7 in c:\\users\\genin\\miniconda3\\lib\\site-packages (from pandas) (2025.2)\n",
      "Requirement already satisfied: contourpy>=1.0.1 in c:\\users\\genin\\miniconda3\\lib\\site-packages (from matplotlib) (1.3.2)\n",
      "Requirement already satisfied: cycler>=0.10 in c:\\users\\genin\\miniconda3\\lib\\site-packages (from matplotlib) (0.12.1)\n",
      "Requirement already satisfied: fonttools>=4.22.0 in c:\\users\\genin\\miniconda3\\lib\\site-packages (from matplotlib) (4.58.0)\n",
      "Requirement already satisfied: kiwisolver>=1.3.1 in c:\\users\\genin\\miniconda3\\lib\\site-packages (from matplotlib) (1.4.8)\n",
      "Requirement already satisfied: packaging>=20.0 in c:\\users\\genin\\miniconda3\\lib\\site-packages (from matplotlib) (24.2)\n",
      "Requirement already satisfied: pillow>=8 in c:\\users\\genin\\miniconda3\\lib\\site-packages (from matplotlib) (11.2.1)\n",
      "Requirement already satisfied: pyparsing>=2.3.1 in c:\\users\\genin\\miniconda3\\lib\\site-packages (from matplotlib) (3.2.3)\n",
      "Requirement already satisfied: altair<6,>=4.0 in c:\\users\\genin\\miniconda3\\lib\\site-packages (from streamlit) (5.5.0)\n",
      "Requirement already satisfied: blinker<2,>=1.5.0 in c:\\users\\genin\\miniconda3\\lib\\site-packages (from streamlit) (1.9.0)\n",
      "Requirement already satisfied: cachetools<6,>=4.0 in c:\\users\\genin\\miniconda3\\lib\\site-packages (from streamlit) (5.5.2)\n",
      "Requirement already satisfied: click<9,>=7.0 in c:\\users\\genin\\miniconda3\\lib\\site-packages (from streamlit) (8.2.0)\n",
      "Requirement already satisfied: pyarrow>=7.0 in c:\\users\\genin\\miniconda3\\lib\\site-packages (from streamlit) (20.0.0)\n",
      "Requirement already satisfied: tenacity<10,>=8.1.0 in c:\\users\\genin\\miniconda3\\lib\\site-packages (from streamlit) (9.1.2)\n",
      "Requirement already satisfied: toml<2,>=0.10.1 in c:\\users\\genin\\miniconda3\\lib\\site-packages (from streamlit) (0.10.2)\n",
      "Requirement already satisfied: typing-extensions<5,>=4.4.0 in c:\\users\\genin\\miniconda3\\lib\\site-packages (from streamlit) (4.12.2)\n",
      "Requirement already satisfied: watchdog<7,>=2.1.5 in c:\\users\\genin\\miniconda3\\lib\\site-packages (from streamlit) (6.0.0)\n",
      "Requirement already satisfied: gitpython!=3.1.19,<4,>=3.0.7 in c:\\users\\genin\\miniconda3\\lib\\site-packages (from streamlit) (3.1.44)\n",
      "Requirement already satisfied: pydeck<1,>=0.8.0b4 in c:\\users\\genin\\miniconda3\\lib\\site-packages (from streamlit) (0.9.1)\n",
      "Requirement already satisfied: tornado<7,>=6.0.3 in c:\\users\\genin\\appdata\\roaming\\python\\python313\\site-packages (from streamlit) (6.4.2)\n",
      "Requirement already satisfied: scipy>=1.10.0 in c:\\users\\genin\\miniconda3\\lib\\site-packages (from riskfolio-lib) (1.15.3)\n",
      "Requirement already satisfied: clarabel>=0.6.0 in c:\\users\\genin\\miniconda3\\lib\\site-packages (from riskfolio-lib) (0.10.0)\n",
      "Requirement already satisfied: cvxpy>=1.5.2 in c:\\users\\genin\\miniconda3\\lib\\site-packages (from riskfolio-lib) (1.6.5)\n",
      "Requirement already satisfied: scikit-learn>=1.3.0 in c:\\users\\genin\\miniconda3\\lib\\site-packages (from riskfolio-lib) (1.6.1)\n",
      "Requirement already satisfied: statsmodels>=0.13.5 in c:\\users\\genin\\miniconda3\\lib\\site-packages (from riskfolio-lib) (0.14.4)\n",
      "Requirement already satisfied: arch>=7.0 in c:\\users\\genin\\miniconda3\\lib\\site-packages (from riskfolio-lib) (7.2.0)\n",
      "Requirement already satisfied: xlsxwriter>=3.1.2 in c:\\users\\genin\\miniconda3\\lib\\site-packages (from riskfolio-lib) (3.2.3)\n",
      "Requirement already satisfied: networkx>=3.0 in c:\\users\\genin\\miniconda3\\lib\\site-packages (from riskfolio-lib) (3.4.2)\n",
      "Requirement already satisfied: astropy>=5.1 in c:\\users\\genin\\miniconda3\\lib\\site-packages (from riskfolio-lib) (7.0.2)\n",
      "Requirement already satisfied: pybind11>=2.10.1 in c:\\users\\genin\\miniconda3\\lib\\site-packages (from riskfolio-lib) (2.13.6)\n",
      "Requirement already satisfied: jinja2 in c:\\users\\genin\\miniconda3\\lib\\site-packages (from altair<6,>=4.0->streamlit) (3.1.6)\n",
      "Requirement already satisfied: jsonschema>=3.0 in c:\\users\\genin\\miniconda3\\lib\\site-packages (from altair<6,>=4.0->streamlit) (4.23.0)\n",
      "Requirement already satisfied: narwhals>=1.14.2 in c:\\users\\genin\\miniconda3\\lib\\site-packages (from altair<6,>=4.0->streamlit) (1.39.1)\n",
      "Requirement already satisfied: pyerfa>=2.0.1.1 in c:\\users\\genin\\miniconda3\\lib\\site-packages (from astropy>=5.1->riskfolio-lib) (2.0.1.5)\n",
      "Requirement already satisfied: astropy-iers-data>=0.2025.4.28.0.37.27 in c:\\users\\genin\\miniconda3\\lib\\site-packages (from astropy>=5.1->riskfolio-lib) (0.2025.5.19.0.38.36)\n",
      "Requirement already satisfied: PyYAML>=6.0.0 in c:\\users\\genin\\miniconda3\\lib\\site-packages (from astropy>=5.1->riskfolio-lib) (6.0.2)\n",
      "Requirement already satisfied: soupsieve>1.2 in c:\\users\\genin\\miniconda3\\lib\\site-packages (from beautifulsoup4>=4.11.1->yfinance) (2.7)\n",
      "Requirement already satisfied: colorama in c:\\users\\genin\\appdata\\roaming\\python\\python313\\site-packages (from click<9,>=7.0->streamlit) (0.4.6)\n",
      "Requirement already satisfied: cffi>=1.12.0 in c:\\users\\genin\\miniconda3\\lib\\site-packages (from curl_cffi>=0.7->yfinance) (1.17.1)\n",
      "Requirement already satisfied: certifi>=2024.2.2 in c:\\users\\genin\\miniconda3\\lib\\site-packages (from curl_cffi>=0.7->yfinance) (2025.4.26)\n",
      "Requirement already satisfied: osqp>=0.6.2 in c:\\users\\genin\\miniconda3\\lib\\site-packages (from cvxpy>=1.5.2->riskfolio-lib) (1.0.4)\n",
      "Requirement already satisfied: scs>=3.2.4.post1 in c:\\users\\genin\\miniconda3\\lib\\site-packages (from cvxpy>=1.5.2->riskfolio-lib) (3.2.7.post2)\n",
      "Requirement already satisfied: gitdb<5,>=4.0.1 in c:\\users\\genin\\miniconda3\\lib\\site-packages (from gitpython!=3.1.19,<4,>=3.0.7->streamlit) (4.0.12)\n",
      "Requirement already satisfied: six>=1.5 in c:\\users\\genin\\appdata\\roaming\\python\\python313\\site-packages (from python-dateutil>=2.8.2->pandas) (1.17.0)\n",
      "Requirement already satisfied: charset-normalizer<4,>=2 in c:\\users\\genin\\miniconda3\\lib\\site-packages (from requests>=2.31->yfinance) (3.3.2)\n",
      "Requirement already satisfied: idna<4,>=2.5 in c:\\users\\genin\\miniconda3\\lib\\site-packages (from requests>=2.31->yfinance) (3.7)\n",
      "Requirement already satisfied: urllib3<3,>=1.21.1 in c:\\users\\genin\\miniconda3\\lib\\site-packages (from requests>=2.31->yfinance) (2.3.0)\n",
      "Requirement already satisfied: joblib>=1.2.0 in c:\\users\\genin\\miniconda3\\lib\\site-packages (from scikit-learn>=1.3.0->riskfolio-lib) (1.5.0)\n",
      "Requirement already satisfied: threadpoolctl>=3.1.0 in c:\\users\\genin\\miniconda3\\lib\\site-packages (from scikit-learn>=1.3.0->riskfolio-lib) (3.6.0)\n",
      "Requirement already satisfied: patsy>=0.5.6 in c:\\users\\genin\\miniconda3\\lib\\site-packages (from statsmodels>=0.13.5->riskfolio-lib) (1.0.1)\n",
      "Requirement already satisfied: pycparser in c:\\users\\genin\\miniconda3\\lib\\site-packages (from cffi>=1.12.0->curl_cffi>=0.7->yfinance) (2.21)\n",
      "Requirement already satisfied: smmap<6,>=3.0.1 in c:\\users\\genin\\miniconda3\\lib\\site-packages (from gitdb<5,>=4.0.1->gitpython!=3.1.19,<4,>=3.0.7->streamlit) (5.0.2)\n",
      "Requirement already satisfied: MarkupSafe>=2.0 in c:\\users\\genin\\miniconda3\\lib\\site-packages (from jinja2->altair<6,>=4.0->streamlit) (3.0.2)\n",
      "Requirement already satisfied: attrs>=22.2.0 in c:\\users\\genin\\miniconda3\\lib\\site-packages (from jsonschema>=3.0->altair<6,>=4.0->streamlit) (25.3.0)\n",
      "Requirement already satisfied: jsonschema-specifications>=2023.03.6 in c:\\users\\genin\\miniconda3\\lib\\site-packages (from jsonschema>=3.0->altair<6,>=4.0->streamlit) (2025.4.1)\n",
      "Requirement already satisfied: referencing>=0.28.4 in c:\\users\\genin\\miniconda3\\lib\\site-packages (from jsonschema>=3.0->altair<6,>=4.0->streamlit) (0.36.2)\n",
      "Requirement already satisfied: rpds-py>=0.7.1 in c:\\users\\genin\\miniconda3\\lib\\site-packages (from jsonschema>=3.0->altair<6,>=4.0->streamlit) (0.25.0)\n",
      "Requirement already satisfied: setuptools in c:\\users\\genin\\miniconda3\\lib\\site-packages (from osqp>=0.6.2->cvxpy>=1.5.2->riskfolio-lib) (78.1.1)\n"
     ]
    }
   ],
   "source": [
    "# Install packages\n",
    "!pip install yfinance pandas matplotlib seaborn streamlit riskfolio-lib\n",
    "\n",
    "# Install libraries\n",
    "import yfinance as yf\n",
    "import pandas as pd\n",
    "import matplotlib.pyplot as plt\n",
    "import seaborn as sns\n",
    "\n",
    "try:\n",
    "    import riskfolio.Portfolio as pf\n",
    "    riskfolio_available = True\n",
    "except ImportError:\n",
    "    riskfolio_available = False"
   ]
  },
  {
   "cell_type": "markdown",
   "id": "6f3c20b2",
   "metadata": {},
   "source": [
    "Configuration of Tickers & Dates"
   ]
  },
  {
   "cell_type": "code",
   "execution_count": 5,
   "id": "1dbf4158",
   "metadata": {},
   "outputs": [],
   "source": [
    "# ✏️ EDIT HERE: You can change these tickers anytime\n",
    "tickers = {\n",
    "    \"Arista Networks\": \"ANET\",\n",
    "    \"Fabrinet\": \"FN\",\n",
    "    \"Astera Labs\": \"ALAB\",\n",
    "    \"NVIDIA\": \"NVDA\"\n",
    "}\n",
    "\n",
    "start_date = \"2010-01-01\"\n",
    "end_date = \"2024-12-31\"\n",
    "\n",
    "# Options:\n",
    "freq = \"Yearly\"  # Options: Daily, Monthly, Yearly\n",
    "abs_or_pct = \"% Change (Relative)\"  # or \"Price Difference (Absolute)\"\n",
    "overlap = \"No\"  # \"Yes\" for overlapping YoY\n",
    "correlation_method = \"pearson\"  # Options: \"pearson\", \"kendall\", \"spearman\"\n",
    "rolling_window = 60  # Rolling window in days"
   ]
  },
  {
   "cell_type": "markdown",
   "id": "00207f31",
   "metadata": {},
   "source": [
    "Data Download from Yahoo Finance"
   ]
  },
  {
   "cell_type": "code",
   "execution_count": null,
   "id": "be990050",
   "metadata": {},
   "outputs": [
    {
     "name": "stdout",
     "output_type": "stream",
     "text": [
      "📥 Downloading Apple (AAPL)...\n",
      "YF.download() has changed argument auto_adjust default to True\n"
     ]
    },
    {
     "name": "stderr",
     "output_type": "stream",
     "text": [
      "[*********************100%***********************]  1 of 1 completed\n",
      "[*********************100%***********************]  1 of 1 completed\n"
     ]
    },
    {
     "name": "stdout",
     "output_type": "stream",
     "text": [
      "⚠️ AAPL missing 'Adj Close'. Using 'Close' instead.\n",
      "📥 Downloading Tesla (TSLA)...\n",
      "⚠️ TSLA missing 'Adj Close'. Using 'Close' instead.\n",
      "📥 Downloading Microsoft (MSFT)...\n"
     ]
    },
    {
     "name": "stderr",
     "output_type": "stream",
     "text": [
      "[*********************100%***********************]  1 of 1 completed\n",
      "[*********************100%***********************]  1 of 1 completed\n"
     ]
    },
    {
     "name": "stdout",
     "output_type": "stream",
     "text": [
      "⚠️ MSFT missing 'Adj Close'. Using 'Close' instead.\n",
      "📥 Downloading Amazon (AMZN)...\n",
      "⚠️ AMZN missing 'Adj Close'. Using 'Close' instead.\n",
      "📥 Downloading NVIDIA (NVDA)...\n"
     ]
    },
    {
     "name": "stderr",
     "output_type": "stream",
     "text": [
      "[*********************100%***********************]  1 of 1 completed"
     ]
    },
    {
     "name": "stdout",
     "output_type": "stream",
     "text": [
      "⚠️ NVDA missing 'Adj Close'. Using 'Close' instead.\n"
     ]
    },
    {
     "name": "stderr",
     "output_type": "stream",
     "text": [
      "\n"
     ]
    }
   ],
   "source": [
    "data = {}\n",
    "for name, ticker in tickers.items():\n",
    "    print(f\"📥 Downloading {name} ({ticker})...\")\n",
    "    stock = yf.download(ticker, start=start_date, end=end_date, group_by=\"column\", auto_adjust=True)\n",
    "    if not stock.empty:\n",
    "        if \"Adj Close\" in stock.columns:\n",
    "            data[name] = stock[\"Adj Close\"].squeeze()\n",
    "        elif \"Close\" in stock.columns:\n",
    "            print(f\"⚠️ {ticker} missing 'Adj Close'. Using 'Close' instead.\")\n",
    "            data[name] = stock[\"Close\"].squeeze()\n",
    "        else:\n",
    "            print(f\"❌ {ticker} has no usable price column.\")\n",
    "    else:\n",
    "        print(f\"❌ {ticker} returned no data.\")"
   ]
  },
  {
   "cell_type": "markdown",
   "id": "e5d266d2",
   "metadata": {},
   "source": [
    "Dataframe formation"
   ]
  },
  {
   "cell_type": "code",
   "execution_count": 6,
   "id": "a604504d",
   "metadata": {},
   "outputs": [
    {
     "data": {
      "text/html": [
       "<div>\n",
       "<style scoped>\n",
       "    .dataframe tbody tr th:only-of-type {\n",
       "        vertical-align: middle;\n",
       "    }\n",
       "\n",
       "    .dataframe tbody tr th {\n",
       "        vertical-align: top;\n",
       "    }\n",
       "\n",
       "    .dataframe thead th {\n",
       "        text-align: right;\n",
       "    }\n",
       "</style>\n",
       "<table border=\"1\" class=\"dataframe\">\n",
       "  <thead>\n",
       "    <tr style=\"text-align: right;\">\n",
       "      <th></th>\n",
       "      <th>Apple</th>\n",
       "      <th>Tesla</th>\n",
       "      <th>Microsoft</th>\n",
       "      <th>Amazon</th>\n",
       "      <th>NVIDIA</th>\n",
       "    </tr>\n",
       "    <tr>\n",
       "      <th>Date</th>\n",
       "      <th></th>\n",
       "      <th></th>\n",
       "      <th></th>\n",
       "      <th></th>\n",
       "      <th></th>\n",
       "    </tr>\n",
       "  </thead>\n",
       "  <tbody>\n",
       "    <tr>\n",
       "      <th>2024-12-24</th>\n",
       "      <td>257.578674</td>\n",
       "      <td>462.279999</td>\n",
       "      <td>437.647369</td>\n",
       "      <td>229.050003</td>\n",
       "      <td>140.207108</td>\n",
       "    </tr>\n",
       "    <tr>\n",
       "      <th>2024-12-26</th>\n",
       "      <td>258.396667</td>\n",
       "      <td>454.130005</td>\n",
       "      <td>436.432068</td>\n",
       "      <td>227.050003</td>\n",
       "      <td>139.917130</td>\n",
       "    </tr>\n",
       "    <tr>\n",
       "      <th>2024-12-27</th>\n",
       "      <td>254.974930</td>\n",
       "      <td>431.660004</td>\n",
       "      <td>428.881104</td>\n",
       "      <td>223.750000</td>\n",
       "      <td>136.997391</td>\n",
       "    </tr>\n",
       "    <tr>\n",
       "      <th>2024-12-30</th>\n",
       "      <td>251.593094</td>\n",
       "      <td>417.410004</td>\n",
       "      <td>423.202911</td>\n",
       "      <td>221.300003</td>\n",
       "      <td>137.477356</td>\n",
       "    </tr>\n",
       "    <tr>\n",
       "      <th>2024-12-31</th>\n",
       "      <td>249.817383</td>\n",
       "      <td>403.839996</td>\n",
       "      <td>419.885681</td>\n",
       "      <td>219.389999</td>\n",
       "      <td>134.277649</td>\n",
       "    </tr>\n",
       "  </tbody>\n",
       "</table>\n",
       "</div>"
      ],
      "text/plain": [
       "                 Apple       Tesla   Microsoft      Amazon      NVIDIA\n",
       "Date                                                                  \n",
       "2024-12-24  257.578674  462.279999  437.647369  229.050003  140.207108\n",
       "2024-12-26  258.396667  454.130005  436.432068  227.050003  139.917130\n",
       "2024-12-27  254.974930  431.660004  428.881104  223.750000  136.997391\n",
       "2024-12-30  251.593094  417.410004  423.202911  221.300003  137.477356\n",
       "2024-12-31  249.817383  403.839996  419.885681  219.389999  134.277649"
      ]
     },
     "metadata": {},
     "output_type": "display_data"
    }
   ],
   "source": [
    "if len(data) == 0:\n",
    "    print(\"❌ No valid data downloaded.\")\n",
    "else:\n",
    "    df = pd.DataFrame(data).dropna()\n",
    "    df.to_csv(\"prices.csv\")\n",
    "    display(df.tail())"
   ]
  },
  {
   "cell_type": "markdown",
   "id": "97d1e8f3",
   "metadata": {},
   "source": [
    "Return Calculation (based on frequency and method)"
   ]
  },
  {
   "cell_type": "code",
   "execution_count": 7,
   "id": "89db68c2",
   "metadata": {},
   "outputs": [
    {
     "name": "stdout",
     "output_type": "stream",
     "text": [
      "⚠️ Fewer than 30 data points — correlation may be unreliable.\n"
     ]
    },
    {
     "name": "stderr",
     "output_type": "stream",
     "text": [
      "C:\\Users\\genin\\AppData\\Local\\Temp\\ipykernel_25316\\1128550481.py:6: FutureWarning: 'Y' is deprecated and will be removed in a future version, please use 'YE' instead.\n",
      "  temp = df.resample(\"Y\").last()\n"
     ]
    }
   ],
   "source": [
    "if freq == \"Daily\":\n",
    "    temp = df\n",
    "elif freq == \"Monthly\":\n",
    "    temp = df.resample(\"M\").last()\n",
    "elif freq == \"Yearly\":\n",
    "    temp = df.resample(\"Y\").last()\n",
    "\n",
    "if abs_or_pct == \"% Change (Relative)\":\n",
    "    if freq == \"Yearly\" and overlap == \"Yes\":\n",
    "        returns = df.pct_change(252).dropna()\n",
    "    else:\n",
    "        returns = temp.pct_change().dropna()\n",
    "else:\n",
    "    returns = temp.diff().dropna()\n",
    "\n",
    "# 🧼 Remove October data due to options pollution\n",
    "returns = returns[returns.index.month != 10]\n",
    "\n",
    "# 📏 Warn if not enough data points\n",
    "if len(returns) < 30:\n",
    "    print(\"⚠️ Fewer than 30 data points — correlation may be unreliable.\")\n"
   ]
  },
  {
   "cell_type": "markdown",
   "id": "d9d07143",
   "metadata": {},
   "source": [
    "Correlation Matrix"
   ]
  },
  {
   "cell_type": "code",
   "execution_count": 8,
   "id": "c4b059d5",
   "metadata": {},
   "outputs": [
    {
     "data": {
      "text/html": [
       "<div>\n",
       "<style scoped>\n",
       "    .dataframe tbody tr th:only-of-type {\n",
       "        vertical-align: middle;\n",
       "    }\n",
       "\n",
       "    .dataframe tbody tr th {\n",
       "        vertical-align: top;\n",
       "    }\n",
       "\n",
       "    .dataframe thead th {\n",
       "        text-align: right;\n",
       "    }\n",
       "</style>\n",
       "<table border=\"1\" class=\"dataframe\">\n",
       "  <thead>\n",
       "    <tr style=\"text-align: right;\">\n",
       "      <th></th>\n",
       "      <th>Apple</th>\n",
       "      <th>Tesla</th>\n",
       "      <th>Microsoft</th>\n",
       "      <th>Amazon</th>\n",
       "      <th>NVIDIA</th>\n",
       "    </tr>\n",
       "  </thead>\n",
       "  <tbody>\n",
       "    <tr>\n",
       "      <th>Apple</th>\n",
       "      <td>1.000</td>\n",
       "      <td>0.990</td>\n",
       "      <td>0.929</td>\n",
       "      <td>0.895</td>\n",
       "      <td>0.973</td>\n",
       "    </tr>\n",
       "    <tr>\n",
       "      <th>Tesla</th>\n",
       "      <td>0.990</td>\n",
       "      <td>1.000</td>\n",
       "      <td>0.883</td>\n",
       "      <td>0.948</td>\n",
       "      <td>0.996</td>\n",
       "    </tr>\n",
       "    <tr>\n",
       "      <th>Microsoft</th>\n",
       "      <td>0.929</td>\n",
       "      <td>0.883</td>\n",
       "      <td>1.000</td>\n",
       "      <td>0.731</td>\n",
       "      <td>0.843</td>\n",
       "    </tr>\n",
       "    <tr>\n",
       "      <th>Amazon</th>\n",
       "      <td>0.895</td>\n",
       "      <td>0.948</td>\n",
       "      <td>0.731</td>\n",
       "      <td>1.000</td>\n",
       "      <td>0.973</td>\n",
       "    </tr>\n",
       "    <tr>\n",
       "      <th>NVIDIA</th>\n",
       "      <td>0.973</td>\n",
       "      <td>0.996</td>\n",
       "      <td>0.843</td>\n",
       "      <td>0.973</td>\n",
       "      <td>1.000</td>\n",
       "    </tr>\n",
       "  </tbody>\n",
       "</table>\n",
       "</div>"
      ],
      "text/plain": [
       "           Apple  Tesla  Microsoft  Amazon  NVIDIA\n",
       "Apple      1.000  0.990      0.929   0.895   0.973\n",
       "Tesla      0.990  1.000      0.883   0.948   0.996\n",
       "Microsoft  0.929  0.883      1.000   0.731   0.843\n",
       "Amazon     0.895  0.948      0.731   1.000   0.973\n",
       "NVIDIA     0.973  0.996      0.843   0.973   1.000"
      ]
     },
     "metadata": {},
     "output_type": "display_data"
    },
    {
     "name": "stderr",
     "output_type": "stream",
     "text": [
      "C:\\Users\\genin\\AppData\\Roaming\\Python\\Python313\\site-packages\\IPython\\core\\pylabtools.py:170: UserWarning: Glyph 128279 (\\N{LINK SYMBOL}) missing from font(s) DejaVu Sans.\n",
      "  fig.canvas.print_figure(bytes_io, **kw)\n"
     ]
    },
    {
     "data": {
      "image/png": "[encoded data removed]",
      "text/plain": [
       "<Figure size 1000x600 with 2 Axes>"
      ]
     },
     "metadata": {},
     "output_type": "display_data"
    }
   ],
   "source": [
    "corr_matrix = returns.corr(method=correlation_method)\n",
    "display(corr_matrix.round(3))\n",
    "\n",
    "plt.figure(figsize=(10, 6))\n",
    "sns.heatmap(corr_matrix, annot=True, cmap=\"coolwarm\", linewidths=0.5)\n",
    "plt.title(f\"🔗 {correlation_method.title()} Correlation Matrix of Returns\")\n",
    "plt.show()"
   ]
  },
  {
   "cell_type": "markdown",
   "id": "9a7babd8",
   "metadata": {},
   "source": [
    "Rolling Correlation"
   ]
  },
  {
   "cell_type": "code",
   "execution_count": null,
   "id": "207ad1c0",
   "metadata": {},
   "outputs": [],
   "source": [
    "if \"NVIDIA\" in returns.columns and \"Arista Networks\" in returns.columns:\n",
    "    rolling_corr = returns[\"NVIDIA\"].rolling(rolling_window).corr(returns[\"Arista Networks\"])\n",
    "    rolling_corr.plot(title=\"🔁 Rolling Correlation: NVIDIA vs Arista\", figsize=(10, 4))\n",
    "    plt.axhline(0, color='gray', linestyle='--')\n",
    "    plt.grid(True)\n",
    "    plt.show()"
   ]
  },
  {
   "cell_type": "markdown",
   "id": "4e8d6b50",
   "metadata": {},
   "source": [
    "Risk Metrics & Portfolio Optimization"
   ]
  },
  {
   "cell_type": "code",
   "execution_count": null,
   "id": "fe4ecab9",
   "metadata": {},
   "outputs": [],
   "source": [
    "if riskfolio_available:\n",
    "    port = pf.Portfolio(returns=returns)\n",
    "    port.assets_stats(method_mu='hist', method_cov='hist')\n",
    "    risk = port.risk_measures(method='hist', rf=0)\n",
    "    display(risk[[\"VaR_0.05\", \"CVaR_0.05\", \"Sharpe\"]].round(4))\n",
    "\n",
    "    # Optimization\n",
    "    w = port.optimization(model=\"Classic\", rm=\"MV\", obj=\"Sharpe\", hist=True)\n",
    "    display(w.T.round(4))\n",
    "\n",
    "    # Portfolio performance\n",
    "    port_weights = w[w > 0].index.tolist()\n",
    "    weighted_returns = returns[port_weights].mul(w.T[port_weights].values, axis=1).sum(axis=1)\n",
    "    cumulative_returns = (1 + weighted_returns).cumprod()\n",
    "    cumulative_returns.plot(title=\"📈 Optimized Portfolio Cumulative Returns\", figsize=(10, 4))\n",
    "    plt.grid(True)\n",
    "    plt.show()\n",
    "\n",
    "    # Drawdown chart\n",
    "    drawdown = (cumulative_returns - cumulative_returns.cummax()) / cumulative_returns.cummax()\n",
    "    drawdown.plot(title=\"📉 Drawdown from Peak\", figsize=(10, 4), color=\"red\")\n",
    "    plt.grid(True)\n",
    "    plt.show()\n",
    "\n",
    "    # Rebalancing simulation\n",
    "    rebalance_returns = weighted_returns.resample(\"M\").apply(lambda x: (1 + x).prod() - 1)\n",
    "    rebalance_cumulative = (1 + rebalance_returns).cumprod()\n",
    "    rebalance_cumulative.plot(title=\"🔁 Monthly Rebalanced Portfolio\", figsize=(10, 4))\n",
    "    plt.grid(True)\n",
    "    plt.show()\n",
    "else:\n",
    "    print(\"⚠️ Install riskfolio-lib to enable risk metrics.\")"
   ]
  }
 ],
 "metadata": {
  "kernelspec": {
   "display_name": "base",
   "language": "python",
   "name": "python3"
  },
  "language_info": {
   "codemirror_mode": {
    "name": "ipython",
    "version": 3
   },
   "file_extension": ".py",
   "mimetype": "text/x-python",
   "name": "python",
   "nbconvert_exporter": "python",
   "pygments_lexer": "ipython3",
   "version": "3.13.2"
  }
 },
 "nbformat": 4,
 "nbformat_minor": 5
}
