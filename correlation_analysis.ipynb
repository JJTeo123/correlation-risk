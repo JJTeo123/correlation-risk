{
 "cells": [
  {
   "cell_type": "markdown",
   "id": "5c846d7b",
   "metadata": {},
   "source": [
    "📈 Dynamic Stock Correlation & Risk Analysis"
   ]
  },
  {
   "cell_type": "code",
   "execution_count": 26,
   "id": "4488193d",
   "metadata": {},
   "outputs": [
    {
     "name": "stdout",
     "output_type": "stream",
     "text": [
      "Requirement already satisfied: yfinance in c:\\users\\genin\\miniconda3\\lib\\site-packages (0.2.61)\n",
      "Requirement already satisfied: pandas in c:\\users\\genin\\miniconda3\\lib\\site-packages (2.2.3)\n",
      "Requirement already satisfied: matplotlib in c:\\users\\genin\\miniconda3\\lib\\site-packages (3.10.3)\n",
      "Requirement already satisfied: seaborn in c:\\users\\genin\\miniconda3\\lib\\site-packages (0.13.2)\n",
      "Requirement already satisfied: streamlit in c:\\users\\genin\\miniconda3\\lib\\site-packages (1.45.1)\n",
      "Requirement already satisfied: riskfolio-lib in c:\\users\\genin\\miniconda3\\lib\\site-packages (7.0.1)\n",
      "Requirement already satisfied: plotly in c:\\users\\genin\\miniconda3\\lib\\site-packages (6.1.0)\n",
      "Requirement already satisfied: numpy>=1.16.5 in c:\\users\\genin\\miniconda3\\lib\\site-packages (from yfinance) (2.2.6)\n",
      "Requirement already satisfied: requests>=2.31 in c:\\users\\genin\\miniconda3\\lib\\site-packages (from yfinance) (2.32.3)\n",
      "Requirement already satisfied: multitasking>=0.0.7 in c:\\users\\genin\\miniconda3\\lib\\site-packages (from yfinance) (0.0.11)\n",
      "Requirement already satisfied: platformdirs>=2.0.0 in c:\\users\\genin\\appdata\\roaming\\python\\python313\\site-packages (from yfinance) (4.3.8)\n",
      "Requirement already satisfied: pytz>=2022.5 in c:\\users\\genin\\miniconda3\\lib\\site-packages (from yfinance) (2025.2)\n",
      "Requirement already satisfied: frozendict>=2.3.4 in c:\\users\\genin\\miniconda3\\lib\\site-packages (from yfinance) (2.4.2)\n",
      "Requirement already satisfied: peewee>=3.16.2 in c:\\users\\genin\\miniconda3\\lib\\site-packages (from yfinance) (3.18.1)\n",
      "Requirement already satisfied: beautifulsoup4>=4.11.1 in c:\\users\\genin\\miniconda3\\lib\\site-packages (from yfinance) (4.13.4)\n",
      "Requirement already satisfied: curl_cffi>=0.7 in c:\\users\\genin\\miniconda3\\lib\\site-packages (from yfinance) (0.11.1)\n",
      "Requirement already satisfied: protobuf>=3.19.0 in c:\\users\\genin\\miniconda3\\lib\\site-packages (from yfinance) (6.31.0)\n",
      "Requirement already satisfied: websockets>=13.0 in c:\\users\\genin\\miniconda3\\lib\\site-packages (from yfinance) (15.0.1)\n",
      "Requirement already satisfied: python-dateutil>=2.8.2 in c:\\users\\genin\\appdata\\roaming\\python\\python313\\site-packages (from pandas) (2.9.0.post0)\n",
      "Requirement already satisfied: tzdata>=2022.7 in c:\\users\\genin\\miniconda3\\lib\\site-packages (from pandas) (2025.2)\n",
      "Requirement already satisfied: contourpy>=1.0.1 in c:\\users\\genin\\miniconda3\\lib\\site-packages (from matplotlib) (1.3.2)\n",
      "Requirement already satisfied: cycler>=0.10 in c:\\users\\genin\\miniconda3\\lib\\site-packages (from matplotlib) (0.12.1)\n",
      "Requirement already satisfied: fonttools>=4.22.0 in c:\\users\\genin\\miniconda3\\lib\\site-packages (from matplotlib) (4.58.0)\n",
      "Requirement already satisfied: kiwisolver>=1.3.1 in c:\\users\\genin\\miniconda3\\lib\\site-packages (from matplotlib) (1.4.8)\n",
      "Requirement already satisfied: packaging>=20.0 in c:\\users\\genin\\miniconda3\\lib\\site-packages (from matplotlib) (24.2)\n",
      "Requirement already satisfied: pillow>=8 in c:\\users\\genin\\miniconda3\\lib\\site-packages (from matplotlib) (11.2.1)\n",
      "Requirement already satisfied: pyparsing>=2.3.1 in c:\\users\\genin\\miniconda3\\lib\\site-packages (from matplotlib) (3.2.3)\n",
      "Requirement already satisfied: altair<6,>=4.0 in c:\\users\\genin\\miniconda3\\lib\\site-packages (from streamlit) (5.5.0)\n",
      "Requirement already satisfied: blinker<2,>=1.5.0 in c:\\users\\genin\\miniconda3\\lib\\site-packages (from streamlit) (1.9.0)\n",
      "Requirement already satisfied: cachetools<6,>=4.0 in c:\\users\\genin\\miniconda3\\lib\\site-packages (from streamlit) (5.5.2)\n",
      "Requirement already satisfied: click<9,>=7.0 in c:\\users\\genin\\miniconda3\\lib\\site-packages (from streamlit) (8.2.0)\n",
      "Requirement already satisfied: pyarrow>=7.0 in c:\\users\\genin\\miniconda3\\lib\\site-packages (from streamlit) (20.0.0)\n",
      "Requirement already satisfied: tenacity<10,>=8.1.0 in c:\\users\\genin\\miniconda3\\lib\\site-packages (from streamlit) (9.1.2)\n",
      "Requirement already satisfied: toml<2,>=0.10.1 in c:\\users\\genin\\miniconda3\\lib\\site-packages (from streamlit) (0.10.2)\n",
      "Requirement already satisfied: typing-extensions<5,>=4.4.0 in c:\\users\\genin\\miniconda3\\lib\\site-packages (from streamlit) (4.12.2)\n",
      "Requirement already satisfied: watchdog<7,>=2.1.5 in c:\\users\\genin\\miniconda3\\lib\\site-packages (from streamlit) (6.0.0)\n",
      "Requirement already satisfied: gitpython!=3.1.19,<4,>=3.0.7 in c:\\users\\genin\\miniconda3\\lib\\site-packages (from streamlit) (3.1.44)\n",
      "Requirement already satisfied: pydeck<1,>=0.8.0b4 in c:\\users\\genin\\miniconda3\\lib\\site-packages (from streamlit) (0.9.1)\n",
      "Requirement already satisfied: tornado<7,>=6.0.3 in c:\\users\\genin\\appdata\\roaming\\python\\python313\\site-packages (from streamlit) (6.4.2)\n",
      "Requirement already satisfied: scipy>=1.10.0 in c:\\users\\genin\\miniconda3\\lib\\site-packages (from riskfolio-lib) (1.15.3)\n",
      "Requirement already satisfied: clarabel>=0.6.0 in c:\\users\\genin\\miniconda3\\lib\\site-packages (from riskfolio-lib) (0.10.0)\n",
      "Requirement already satisfied: cvxpy>=1.5.2 in c:\\users\\genin\\miniconda3\\lib\\site-packages (from riskfolio-lib) (1.6.5)\n",
      "Requirement already satisfied: scikit-learn>=1.3.0 in c:\\users\\genin\\miniconda3\\lib\\site-packages (from riskfolio-lib) (1.6.1)\n",
      "Requirement already satisfied: statsmodels>=0.13.5 in c:\\users\\genin\\miniconda3\\lib\\site-packages (from riskfolio-lib) (0.14.4)\n",
      "Requirement already satisfied: arch>=7.0 in c:\\users\\genin\\miniconda3\\lib\\site-packages (from riskfolio-lib) (7.2.0)\n",
      "Requirement already satisfied: xlsxwriter>=3.1.2 in c:\\users\\genin\\miniconda3\\lib\\site-packages (from riskfolio-lib) (3.2.3)\n",
      "Requirement already satisfied: networkx>=3.0 in c:\\users\\genin\\miniconda3\\lib\\site-packages (from riskfolio-lib) (3.4.2)\n",
      "Requirement already satisfied: astropy>=5.1 in c:\\users\\genin\\miniconda3\\lib\\site-packages (from riskfolio-lib) (7.0.2)\n",
      "Requirement already satisfied: pybind11>=2.10.1 in c:\\users\\genin\\miniconda3\\lib\\site-packages (from riskfolio-lib) (2.13.6)\n",
      "Requirement already satisfied: narwhals>=1.15.1 in c:\\users\\genin\\miniconda3\\lib\\site-packages (from plotly) (1.39.1)\n",
      "Requirement already satisfied: jinja2 in c:\\users\\genin\\miniconda3\\lib\\site-packages (from altair<6,>=4.0->streamlit) (3.1.6)\n",
      "Requirement already satisfied: jsonschema>=3.0 in c:\\users\\genin\\miniconda3\\lib\\site-packages (from altair<6,>=4.0->streamlit) (4.23.0)\n",
      "Requirement already satisfied: pyerfa>=2.0.1.1 in c:\\users\\genin\\miniconda3\\lib\\site-packages (from astropy>=5.1->riskfolio-lib) (2.0.1.5)\n",
      "Requirement already satisfied: astropy-iers-data>=0.2025.4.28.0.37.27 in c:\\users\\genin\\miniconda3\\lib\\site-packages (from astropy>=5.1->riskfolio-lib) (0.2025.5.19.0.38.36)\n",
      "Requirement already satisfied: PyYAML>=6.0.0 in c:\\users\\genin\\miniconda3\\lib\\site-packages (from astropy>=5.1->riskfolio-lib) (6.0.2)\n",
      "Requirement already satisfied: soupsieve>1.2 in c:\\users\\genin\\miniconda3\\lib\\site-packages (from beautifulsoup4>=4.11.1->yfinance) (2.7)\n",
      "Requirement already satisfied: colorama in c:\\users\\genin\\appdata\\roaming\\python\\python313\\site-packages (from click<9,>=7.0->streamlit) (0.4.6)\n",
      "Requirement already satisfied: cffi>=1.12.0 in c:\\users\\genin\\miniconda3\\lib\\site-packages (from curl_cffi>=0.7->yfinance) (1.17.1)\n",
      "Requirement already satisfied: certifi>=2024.2.2 in c:\\users\\genin\\miniconda3\\lib\\site-packages (from curl_cffi>=0.7->yfinance) (2025.4.26)\n",
      "Requirement already satisfied: osqp>=0.6.2 in c:\\users\\genin\\miniconda3\\lib\\site-packages (from cvxpy>=1.5.2->riskfolio-lib) (1.0.4)\n",
      "Requirement already satisfied: scs>=3.2.4.post1 in c:\\users\\genin\\miniconda3\\lib\\site-packages (from cvxpy>=1.5.2->riskfolio-lib) (3.2.7.post2)\n",
      "Requirement already satisfied: gitdb<5,>=4.0.1 in c:\\users\\genin\\miniconda3\\lib\\site-packages (from gitpython!=3.1.19,<4,>=3.0.7->streamlit) (4.0.12)\n",
      "Requirement already satisfied: six>=1.5 in c:\\users\\genin\\appdata\\roaming\\python\\python313\\site-packages (from python-dateutil>=2.8.2->pandas) (1.17.0)\n",
      "Requirement already satisfied: charset-normalizer<4,>=2 in c:\\users\\genin\\miniconda3\\lib\\site-packages (from requests>=2.31->yfinance) (3.3.2)\n",
      "Requirement already satisfied: idna<4,>=2.5 in c:\\users\\genin\\miniconda3\\lib\\site-packages (from requests>=2.31->yfinance) (3.7)\n",
      "Requirement already satisfied: urllib3<3,>=1.21.1 in c:\\users\\genin\\miniconda3\\lib\\site-packages (from requests>=2.31->yfinance) (2.3.0)\n",
      "Requirement already satisfied: joblib>=1.2.0 in c:\\users\\genin\\miniconda3\\lib\\site-packages (from scikit-learn>=1.3.0->riskfolio-lib) (1.5.0)\n",
      "Requirement already satisfied: threadpoolctl>=3.1.0 in c:\\users\\genin\\miniconda3\\lib\\site-packages (from scikit-learn>=1.3.0->riskfolio-lib) (3.6.0)\n",
      "Requirement already satisfied: patsy>=0.5.6 in c:\\users\\genin\\miniconda3\\lib\\site-packages (from statsmodels>=0.13.5->riskfolio-lib) (1.0.1)\n",
      "Requirement already satisfied: pycparser in c:\\users\\genin\\miniconda3\\lib\\site-packages (from cffi>=1.12.0->curl_cffi>=0.7->yfinance) (2.21)\n",
      "Requirement already satisfied: smmap<6,>=3.0.1 in c:\\users\\genin\\miniconda3\\lib\\site-packages (from gitdb<5,>=4.0.1->gitpython!=3.1.19,<4,>=3.0.7->streamlit) (5.0.2)\n",
      "Requirement already satisfied: MarkupSafe>=2.0 in c:\\users\\genin\\miniconda3\\lib\\site-packages (from jinja2->altair<6,>=4.0->streamlit) (3.0.2)\n",
      "Requirement already satisfied: attrs>=22.2.0 in c:\\users\\genin\\miniconda3\\lib\\site-packages (from jsonschema>=3.0->altair<6,>=4.0->streamlit) (25.3.0)\n",
      "Requirement already satisfied: jsonschema-specifications>=2023.03.6 in c:\\users\\genin\\miniconda3\\lib\\site-packages (from jsonschema>=3.0->altair<6,>=4.0->streamlit) (2025.4.1)\n",
      "Requirement already satisfied: referencing>=0.28.4 in c:\\users\\genin\\miniconda3\\lib\\site-packages (from jsonschema>=3.0->altair<6,>=4.0->streamlit) (0.36.2)\n",
      "Requirement already satisfied: rpds-py>=0.7.1 in c:\\users\\genin\\miniconda3\\lib\\site-packages (from jsonschema>=3.0->altair<6,>=4.0->streamlit) (0.25.0)\n",
      "Requirement already satisfied: setuptools in c:\\users\\genin\\miniconda3\\lib\\site-packages (from osqp>=0.6.2->cvxpy>=1.5.2->riskfolio-lib) (78.1.1)\n"
     ]
    }
   ],
   "source": [
    "# Install packages\n",
    "!pip install yfinance pandas matplotlib seaborn streamlit riskfolio-lib plotly\n",
    "\n",
    "# Install libraries\n",
    "import yfinance as yf\n",
    "import pandas as pd\n",
    "import matplotlib.pyplot as plt\n",
    "# import seaborn as sns\n",
    "import numpy as np\n",
    "import plotly.express as px\n",
    "\n",
    "try:\n",
    "    import riskfolio as rp\n",
    "    riskfolio_available = True\n",
    "except Exception as e:\n",
    "    print(\"❌ riskfolio-lib failed to import:\", e)\n",
    "    riskfolio_available = False"
   ]
  },
  {
   "cell_type": "markdown",
   "id": "6f3c20b2",
   "metadata": {},
   "source": [
    "Configuration of Tickers & Dates"
   ]
  },
  {
   "cell_type": "code",
   "execution_count": 11,
   "id": "1dbf4158",
   "metadata": {},
   "outputs": [],
   "source": [
    "tickers = [\"ANET\", \"FN\", \"ALAB\", \"NVDA\"]\n",
    "start = \"2010-01-01\"\n",
    "end = \"2024-12-31\"\n",
    "threshold_days = 3  # allow small gaps like weekends/market holidays/data source lag\n",
    "\n",
    "freq = \"Monthly\"  # \"Daily\", \"Monthly\", or \"Yearly\"\n",
    "abs_or_pct = \"% Change (Relative)\"  # or \"Price Difference (Absolute)\"\n",
    "overlap = \"No\"  # \"Yes\" if overlapping for YoY\n",
    "corr_type = \"Pearson\"  # or \"Kendall\", \"Spearman\"\n",
    "window = 60  # rolling correlation window"
   ]
  },
  {
   "cell_type": "markdown",
   "id": "00207f31",
   "metadata": {},
   "source": [
    "Data Download from Yahoo Finance"
   ]
  },
  {
   "cell_type": "code",
   "execution_count": 27,
   "id": "be990050",
   "metadata": {},
   "outputs": [
    {
     "name": "stderr",
     "output_type": "stream",
     "text": [
      "[*********************100%***********************]  1 of 1 completed\n",
      "[*********************100%***********************]  1 of 1 completed\n",
      "[*********************100%***********************]  1 of 1 completed"
     ]
    },
    {
     "name": "stdout",
     "output_type": "stream",
     "text": [
      "📥 Downloading ANET...\n",
      "📥 Downloading FN...\n",
      "📥 Downloading ALAB...\n",
      "📥 Downloading NVDA...\n"
     ]
    },
    {
     "name": "stderr",
     "output_type": "stream",
     "text": [
      "\n",
      "[*********************100%***********************]  1 of 1 completed\n"
     ]
    }
   ],
   "source": [
    "data = {}\n",
    "incomplete_data_notes = []\n",
    "\n",
    "for ticker in tickers:\n",
    "    print(f\"📥 Downloading {ticker}...\")\n",
    "    stock = yf.download(ticker, start=start, end=end, group_by=\"column\", auto_adjust=True)\n",
    "\n",
    "    if not stock.empty:\n",
    "        actual_start = stock.index.min().date()\n",
    "        actual_end = stock.index.max().date()\n",
    "        user_start = pd.to_datetime(start).date()\n",
    "        user_end = pd.to_datetime(end).date()\n",
    "\n",
    "        if (actual_start - user_start).days > threshold_days or (user_end - actual_end).days > threshold_days:\n",
    "            reason = \"IPO, delisting, or missing Yahoo data\"\n",
    "            incomplete_data_notes.append({\n",
    "                \"Ticker\": ticker,\n",
    "                \"Available From\": actual_start,\n",
    "                \"Available To\": actual_end,\n",
    "                \"Requested From\": user_start,\n",
    "                \"Requested To\": user_end,\n",
    "                \"Reason\": reason\n",
    "            })\n",
    "\n",
    "        # Extract valid series\n",
    "        if isinstance(stock.columns, pd.MultiIndex):\n",
    "            try:\n",
    "                val = stock[\"Close\"][ticker].dropna()\n",
    "            except KeyError:\n",
    "                print(f\"⚠️ 'Close' prices not found for {ticker} (MultiIndex).\")\n",
    "                continue\n",
    "        elif \"Close\" in stock.columns:\n",
    "            val = stock[\"Close\"].dropna()\n",
    "        else:\n",
    "            print(f\"⚠️ 'Close' column not found for {ticker}.\")\n",
    "            continue\n",
    "\n",
    "        if isinstance(val, pd.Series):\n",
    "            data[ticker] = val\n",
    "        elif isinstance(val, pd.DataFrame) and val.shape[1] == 1:\n",
    "            data[ticker] = val.iloc[:, 0]\n",
    "    else:\n",
    "        print(f\"❌ {ticker} returned no data.\")"
   ]
  },
  {
   "cell_type": "markdown",
   "id": "e5d266d2",
   "metadata": {},
   "source": [
    "Dataframe formation"
   ]
  },
  {
   "cell_type": "code",
   "execution_count": 29,
   "id": "a604504d",
   "metadata": {},
   "outputs": [
    {
     "name": "stdout",
     "output_type": "stream",
     "text": [
      "⚠️ Some stocks have limited data:\n"
     ]
    },
    {
     "data": {
      "text/html": [
       "<div>\n",
       "<style scoped>\n",
       "    .dataframe tbody tr th:only-of-type {\n",
       "        vertical-align: middle;\n",
       "    }\n",
       "\n",
       "    .dataframe tbody tr th {\n",
       "        vertical-align: top;\n",
       "    }\n",
       "\n",
       "    .dataframe thead th {\n",
       "        text-align: right;\n",
       "    }\n",
       "</style>\n",
       "<table border=\"1\" class=\"dataframe\">\n",
       "  <thead>\n",
       "    <tr style=\"text-align: right;\">\n",
       "      <th></th>\n",
       "      <th>Ticker</th>\n",
       "      <th>Available From</th>\n",
       "      <th>Available To</th>\n",
       "      <th>Requested From</th>\n",
       "      <th>Requested To</th>\n",
       "      <th>Reason</th>\n",
       "    </tr>\n",
       "  </thead>\n",
       "  <tbody>\n",
       "    <tr>\n",
       "      <th>0</th>\n",
       "      <td>ANET</td>\n",
       "      <td>2014-06-06</td>\n",
       "      <td>2024-12-30</td>\n",
       "      <td>2010-01-01</td>\n",
       "      <td>2024-12-31</td>\n",
       "      <td>IPO, delisting, or missing Yahoo data</td>\n",
       "    </tr>\n",
       "    <tr>\n",
       "      <th>1</th>\n",
       "      <td>FN</td>\n",
       "      <td>2010-06-25</td>\n",
       "      <td>2024-12-30</td>\n",
       "      <td>2010-01-01</td>\n",
       "      <td>2024-12-31</td>\n",
       "      <td>IPO, delisting, or missing Yahoo data</td>\n",
       "    </tr>\n",
       "    <tr>\n",
       "      <th>2</th>\n",
       "      <td>ALAB</td>\n",
       "      <td>2024-03-20</td>\n",
       "      <td>2024-12-30</td>\n",
       "      <td>2010-01-01</td>\n",
       "      <td>2024-12-31</td>\n",
       "      <td>IPO, delisting, or missing Yahoo data</td>\n",
       "    </tr>\n",
       "  </tbody>\n",
       "</table>\n",
       "</div>"
      ],
      "text/plain": [
       "  Ticker Available From Available To Requested From Requested To  \\\n",
       "0   ANET     2014-06-06   2024-12-30     2010-01-01   2024-12-31   \n",
       "1     FN     2010-06-25   2024-12-30     2010-01-01   2024-12-31   \n",
       "2   ALAB     2024-03-20   2024-12-30     2010-01-01   2024-12-31   \n",
       "\n",
       "                                  Reason  \n",
       "0  IPO, delisting, or missing Yahoo data  \n",
       "1  IPO, delisting, or missing Yahoo data  \n",
       "2  IPO, delisting, or missing Yahoo data  "
      ]
     },
     "metadata": {},
     "output_type": "display_data"
    },
    {
     "data": {
      "text/html": [
       "<div>\n",
       "<style scoped>\n",
       "    .dataframe tbody tr th:only-of-type {\n",
       "        vertical-align: middle;\n",
       "    }\n",
       "\n",
       "    .dataframe tbody tr th {\n",
       "        vertical-align: top;\n",
       "    }\n",
       "\n",
       "    .dataframe thead th {\n",
       "        text-align: right;\n",
       "    }\n",
       "</style>\n",
       "<table border=\"1\" class=\"dataframe\">\n",
       "  <thead>\n",
       "    <tr style=\"text-align: right;\">\n",
       "      <th></th>\n",
       "      <th>ANET</th>\n",
       "      <th>FN</th>\n",
       "      <th>ALAB</th>\n",
       "      <th>NVDA</th>\n",
       "    </tr>\n",
       "    <tr>\n",
       "      <th>Date</th>\n",
       "      <th></th>\n",
       "      <th></th>\n",
       "      <th></th>\n",
       "      <th></th>\n",
       "    </tr>\n",
       "  </thead>\n",
       "  <tbody>\n",
       "    <tr>\n",
       "      <th>2024-12-23</th>\n",
       "      <td>113.089996</td>\n",
       "      <td>220.889999</td>\n",
       "      <td>135.570007</td>\n",
       "      <td>139.657150</td>\n",
       "    </tr>\n",
       "    <tr>\n",
       "      <th>2024-12-24</th>\n",
       "      <td>114.650002</td>\n",
       "      <td>221.240005</td>\n",
       "      <td>141.600006</td>\n",
       "      <td>140.207108</td>\n",
       "    </tr>\n",
       "    <tr>\n",
       "      <th>2024-12-26</th>\n",
       "      <td>114.860001</td>\n",
       "      <td>224.149994</td>\n",
       "      <td>145.809998</td>\n",
       "      <td>139.917130</td>\n",
       "    </tr>\n",
       "    <tr>\n",
       "      <th>2024-12-27</th>\n",
       "      <td>113.029999</td>\n",
       "      <td>219.470001</td>\n",
       "      <td>141.529999</td>\n",
       "      <td>136.997391</td>\n",
       "    </tr>\n",
       "    <tr>\n",
       "      <th>2024-12-30</th>\n",
       "      <td>111.449997</td>\n",
       "      <td>214.759995</td>\n",
       "      <td>136.419998</td>\n",
       "      <td>137.477356</td>\n",
       "    </tr>\n",
       "  </tbody>\n",
       "</table>\n",
       "</div>"
      ],
      "text/plain": [
       "                  ANET          FN        ALAB        NVDA\n",
       "Date                                                      \n",
       "2024-12-23  113.089996  220.889999  135.570007  139.657150\n",
       "2024-12-24  114.650002  221.240005  141.600006  140.207108\n",
       "2024-12-26  114.860001  224.149994  145.809998  139.917130\n",
       "2024-12-27  113.029999  219.470001  141.529999  136.997391\n",
       "2024-12-30  111.449997  214.759995  136.419998  137.477356"
      ]
     },
     "execution_count": 29,
     "metadata": {},
     "output_type": "execute_result"
    }
   ],
   "source": [
    "if len(data) == 0:\n",
    "    print(\"❌ No valid data downloaded.\")\n",
    "else:\n",
    "    df = pd.DataFrame(data).ffill().dropna()\n",
    "    \n",
    "if incomplete_data_notes:\n",
    "    print(\"⚠️ Some stocks have limited data:\")\n",
    "    display(pd.DataFrame(incomplete_data_notes))\n",
    "    \n",
    "df = pd.DataFrame(data).ffill().dropna()\n",
    "df.tail()"
   ]
  },
  {
   "cell_type": "markdown",
   "id": "e24befb7",
   "metadata": {},
   "source": [
    "Price History Visualisations"
   ]
  },
  {
   "cell_type": "code",
   "execution_count": 30,
   "id": "f56f2ae3",
   "metadata": {},
   "outputs": [
    {
     "data": {
      "text/html": [
       "<div>\n",
       "<style scoped>\n",
       "    .dataframe tbody tr th:only-of-type {\n",
       "        vertical-align: middle;\n",
       "    }\n",
       "\n",
       "    .dataframe tbody tr th {\n",
       "        vertical-align: top;\n",
       "    }\n",
       "\n",
       "    .dataframe thead th {\n",
       "        text-align: right;\n",
       "    }\n",
       "</style>\n",
       "<table border=\"1\" class=\"dataframe\">\n",
       "  <thead>\n",
       "    <tr style=\"text-align: right;\">\n",
       "      <th></th>\n",
       "      <th>ANET</th>\n",
       "      <th>FN</th>\n",
       "      <th>ALAB</th>\n",
       "      <th>NVDA</th>\n",
       "    </tr>\n",
       "    <tr>\n",
       "      <th>Date</th>\n",
       "      <th></th>\n",
       "      <th></th>\n",
       "      <th></th>\n",
       "      <th></th>\n",
       "    </tr>\n",
       "  </thead>\n",
       "  <tbody>\n",
       "    <tr>\n",
       "      <th>2024-12-16</th>\n",
       "      <td>116.529999</td>\n",
       "      <td>237.630005</td>\n",
       "      <td>130.479996</td>\n",
       "      <td>131.987854</td>\n",
       "    </tr>\n",
       "    <tr>\n",
       "      <th>2024-12-17</th>\n",
       "      <td>112.949997</td>\n",
       "      <td>231.759995</td>\n",
       "      <td>127.940002</td>\n",
       "      <td>130.378006</td>\n",
       "    </tr>\n",
       "    <tr>\n",
       "      <th>2024-12-18</th>\n",
       "      <td>108.070000</td>\n",
       "      <td>231.630005</td>\n",
       "      <td>122.470001</td>\n",
       "      <td>128.898148</td>\n",
       "    </tr>\n",
       "    <tr>\n",
       "      <th>2024-12-19</th>\n",
       "      <td>109.070000</td>\n",
       "      <td>222.740005</td>\n",
       "      <td>125.279999</td>\n",
       "      <td>130.667969</td>\n",
       "    </tr>\n",
       "    <tr>\n",
       "      <th>2024-12-20</th>\n",
       "      <td>112.809998</td>\n",
       "      <td>221.259995</td>\n",
       "      <td>132.169998</td>\n",
       "      <td>134.687607</td>\n",
       "    </tr>\n",
       "    <tr>\n",
       "      <th>2024-12-23</th>\n",
       "      <td>113.089996</td>\n",
       "      <td>220.889999</td>\n",
       "      <td>135.570007</td>\n",
       "      <td>139.657150</td>\n",
       "    </tr>\n",
       "    <tr>\n",
       "      <th>2024-12-24</th>\n",
       "      <td>114.650002</td>\n",
       "      <td>221.240005</td>\n",
       "      <td>141.600006</td>\n",
       "      <td>140.207108</td>\n",
       "    </tr>\n",
       "    <tr>\n",
       "      <th>2024-12-26</th>\n",
       "      <td>114.860001</td>\n",
       "      <td>224.149994</td>\n",
       "      <td>145.809998</td>\n",
       "      <td>139.917130</td>\n",
       "    </tr>\n",
       "    <tr>\n",
       "      <th>2024-12-27</th>\n",
       "      <td>113.029999</td>\n",
       "      <td>219.470001</td>\n",
       "      <td>141.529999</td>\n",
       "      <td>136.997391</td>\n",
       "    </tr>\n",
       "    <tr>\n",
       "      <th>2024-12-30</th>\n",
       "      <td>111.449997</td>\n",
       "      <td>214.759995</td>\n",
       "      <td>136.419998</td>\n",
       "      <td>137.477356</td>\n",
       "    </tr>\n",
       "  </tbody>\n",
       "</table>\n",
       "</div>"
      ],
      "text/plain": [
       "                  ANET          FN        ALAB        NVDA\n",
       "Date                                                      \n",
       "2024-12-16  116.529999  237.630005  130.479996  131.987854\n",
       "2024-12-17  112.949997  231.759995  127.940002  130.378006\n",
       "2024-12-18  108.070000  231.630005  122.470001  128.898148\n",
       "2024-12-19  109.070000  222.740005  125.279999  130.667969\n",
       "2024-12-20  112.809998  221.259995  132.169998  134.687607\n",
       "2024-12-23  113.089996  220.889999  135.570007  139.657150\n",
       "2024-12-24  114.650002  221.240005  141.600006  140.207108\n",
       "2024-12-26  114.860001  224.149994  145.809998  139.917130\n",
       "2024-12-27  113.029999  219.470001  141.529999  136.997391\n",
       "2024-12-30  111.449997  214.759995  136.419998  137.477356"
      ]
     },
     "metadata": {},
     "output_type": "display_data"
    },
    {
     "name": "stderr",
     "output_type": "stream",
     "text": [
      "C:\\Users\\genin\\AppData\\Roaming\\Python\\Python313\\site-packages\\IPython\\core\\pylabtools.py:170: UserWarning:\n",
      "\n",
      "Glyph 128202 (\\N{BAR CHART}) missing from font(s) DejaVu Sans.\n",
      "\n"
     ]
    },
    {
     "data": {
      "image/png": "[encoded data removed]",
      "text/plain": [
       "<Figure size 1000x300 with 1 Axes>"
      ]
     },
     "metadata": {},
     "output_type": "display_data"
    },
    {
     "data": {
      "text/html": [
       "<div>\n",
       "<style scoped>\n",
       "    .dataframe tbody tr th:only-of-type {\n",
       "        vertical-align: middle;\n",
       "    }\n",
       "\n",
       "    .dataframe tbody tr th {\n",
       "        vertical-align: top;\n",
       "    }\n",
       "\n",
       "    .dataframe thead th {\n",
       "        text-align: right;\n",
       "    }\n",
       "</style>\n",
       "<table border=\"1\" class=\"dataframe\">\n",
       "  <thead>\n",
       "    <tr style=\"text-align: right;\">\n",
       "      <th></th>\n",
       "      <th>ANET</th>\n",
       "      <th>FN</th>\n",
       "      <th>ALAB</th>\n",
       "      <th>NVDA</th>\n",
       "    </tr>\n",
       "    <tr>\n",
       "      <th>Date</th>\n",
       "      <th></th>\n",
       "      <th></th>\n",
       "      <th></th>\n",
       "      <th></th>\n",
       "    </tr>\n",
       "  </thead>\n",
       "  <tbody>\n",
       "    <tr>\n",
       "      <th>2024-12-16</th>\n",
       "      <td>157.165020</td>\n",
       "      <td>123.688325</td>\n",
       "      <td>210.349828</td>\n",
       "      <td>146.097488</td>\n",
       "    </tr>\n",
       "    <tr>\n",
       "      <th>2024-12-17</th>\n",
       "      <td>152.336640</td>\n",
       "      <td>120.632938</td>\n",
       "      <td>206.255046</td>\n",
       "      <td>144.315546</td>\n",
       "    </tr>\n",
       "    <tr>\n",
       "      <th>2024-12-18</th>\n",
       "      <td>145.754946</td>\n",
       "      <td>120.565277</td>\n",
       "      <td>197.436730</td>\n",
       "      <td>142.677489</td>\n",
       "    </tr>\n",
       "    <tr>\n",
       "      <th>2024-12-19</th>\n",
       "      <td>147.103655</td>\n",
       "      <td>115.937961</td>\n",
       "      <td>201.966792</td>\n",
       "      <td>144.636506</td>\n",
       "    </tr>\n",
       "    <tr>\n",
       "      <th>2024-12-20</th>\n",
       "      <td>152.147822</td>\n",
       "      <td>115.167604</td>\n",
       "      <td>213.074320</td>\n",
       "      <td>149.085847</td>\n",
       "    </tr>\n",
       "    <tr>\n",
       "      <th>2024-12-23</th>\n",
       "      <td>152.525459</td>\n",
       "      <td>114.975018</td>\n",
       "      <td>218.555554</td>\n",
       "      <td>154.586640</td>\n",
       "    </tr>\n",
       "    <tr>\n",
       "      <th>2024-12-24</th>\n",
       "      <td>154.629451</td>\n",
       "      <td>115.157199</td>\n",
       "      <td>228.276655</td>\n",
       "      <td>155.195388</td>\n",
       "    </tr>\n",
       "    <tr>\n",
       "      <th>2024-12-26</th>\n",
       "      <td>154.912679</td>\n",
       "      <td>116.671872</td>\n",
       "      <td>235.063680</td>\n",
       "      <td>154.874411</td>\n",
       "    </tr>\n",
       "    <tr>\n",
       "      <th>2024-12-27</th>\n",
       "      <td>152.444540</td>\n",
       "      <td>114.235898</td>\n",
       "      <td>228.163794</td>\n",
       "      <td>151.642549</td>\n",
       "    </tr>\n",
       "    <tr>\n",
       "      <th>2024-12-30</th>\n",
       "      <td>150.313577</td>\n",
       "      <td>111.784301</td>\n",
       "      <td>219.925844</td>\n",
       "      <td>152.173823</td>\n",
       "    </tr>\n",
       "  </tbody>\n",
       "</table>\n",
       "</div>"
      ],
      "text/plain": [
       "                  ANET          FN        ALAB        NVDA\n",
       "Date                                                      \n",
       "2024-12-16  157.165020  123.688325  210.349828  146.097488\n",
       "2024-12-17  152.336640  120.632938  206.255046  144.315546\n",
       "2024-12-18  145.754946  120.565277  197.436730  142.677489\n",
       "2024-12-19  147.103655  115.937961  201.966792  144.636506\n",
       "2024-12-20  152.147822  115.167604  213.074320  149.085847\n",
       "2024-12-23  152.525459  114.975018  218.555554  154.586640\n",
       "2024-12-24  154.629451  115.157199  228.276655  155.195388\n",
       "2024-12-26  154.912679  116.671872  235.063680  154.874411\n",
       "2024-12-27  152.444540  114.235898  228.163794  151.642549\n",
       "2024-12-30  150.313577  111.784301  219.925844  152.173823"
      ]
     },
     "metadata": {},
     "output_type": "display_data"
    },
    {
     "name": "stderr",
     "output_type": "stream",
     "text": [
      "C:\\Users\\genin\\AppData\\Roaming\\Python\\Python313\\site-packages\\IPython\\core\\pylabtools.py:170: UserWarning:\n",
      "\n",
      "Glyph 128202 (\\N{BAR CHART}) missing from font(s) DejaVu Sans.\n",
      "\n"
     ]
    },
    {
     "data": {
      "image/png": "[encoded data removed]",
      "text/plain": [
       "<Figure size 1000x300 with 1 Axes>"
      ]
     },
     "metadata": {},
     "output_type": "display_data"
    },
    {
     "data": {
      "text/html": [
       "<div>\n",
       "<style scoped>\n",
       "    .dataframe tbody tr th:only-of-type {\n",
       "        vertical-align: middle;\n",
       "    }\n",
       "\n",
       "    .dataframe tbody tr th {\n",
       "        vertical-align: top;\n",
       "    }\n",
       "\n",
       "    .dataframe thead th {\n",
       "        text-align: right;\n",
       "    }\n",
       "</style>\n",
       "<table border=\"1\" class=\"dataframe\">\n",
       "  <thead>\n",
       "    <tr style=\"text-align: right;\">\n",
       "      <th></th>\n",
       "      <th>ANET</th>\n",
       "      <th>FN</th>\n",
       "      <th>ALAB</th>\n",
       "      <th>NVDA</th>\n",
       "    </tr>\n",
       "    <tr>\n",
       "      <th>Date</th>\n",
       "      <th></th>\n",
       "      <th></th>\n",
       "      <th></th>\n",
       "      <th></th>\n",
       "    </tr>\n",
       "  </thead>\n",
       "  <tbody>\n",
       "    <tr>\n",
       "      <th>2024-12-16</th>\n",
       "      <td>4.758149</td>\n",
       "      <td>5.470715</td>\n",
       "      <td>4.871220</td>\n",
       "      <td>4.882710</td>\n",
       "    </tr>\n",
       "    <tr>\n",
       "      <th>2024-12-17</th>\n",
       "      <td>4.726945</td>\n",
       "      <td>5.445702</td>\n",
       "      <td>4.851561</td>\n",
       "      <td>4.870438</td>\n",
       "    </tr>\n",
       "    <tr>\n",
       "      <th>2024-12-18</th>\n",
       "      <td>4.682779</td>\n",
       "      <td>5.445141</td>\n",
       "      <td>4.807866</td>\n",
       "      <td>4.859023</td>\n",
       "    </tr>\n",
       "    <tr>\n",
       "      <th>2024-12-19</th>\n",
       "      <td>4.691990</td>\n",
       "      <td>5.406005</td>\n",
       "      <td>4.830551</td>\n",
       "      <td>4.872660</td>\n",
       "    </tr>\n",
       "    <tr>\n",
       "      <th>2024-12-20</th>\n",
       "      <td>4.725705</td>\n",
       "      <td>5.399338</td>\n",
       "      <td>4.884089</td>\n",
       "      <td>4.902958</td>\n",
       "    </tr>\n",
       "    <tr>\n",
       "      <th>2024-12-23</th>\n",
       "      <td>4.728184</td>\n",
       "      <td>5.397665</td>\n",
       "      <td>4.909488</td>\n",
       "      <td>4.939190</td>\n",
       "    </tr>\n",
       "    <tr>\n",
       "      <th>2024-12-24</th>\n",
       "      <td>4.741884</td>\n",
       "      <td>5.399248</td>\n",
       "      <td>4.953006</td>\n",
       "      <td>4.943121</td>\n",
       "    </tr>\n",
       "    <tr>\n",
       "      <th>2024-12-26</th>\n",
       "      <td>4.743714</td>\n",
       "      <td>5.412315</td>\n",
       "      <td>4.982304</td>\n",
       "      <td>4.941050</td>\n",
       "    </tr>\n",
       "    <tr>\n",
       "      <th>2024-12-27</th>\n",
       "      <td>4.727653</td>\n",
       "      <td>5.391216</td>\n",
       "      <td>4.952512</td>\n",
       "      <td>4.919962</td>\n",
       "    </tr>\n",
       "    <tr>\n",
       "      <th>2024-12-30</th>\n",
       "      <td>4.713576</td>\n",
       "      <td>5.369521</td>\n",
       "      <td>4.915738</td>\n",
       "      <td>4.923459</td>\n",
       "    </tr>\n",
       "  </tbody>\n",
       "</table>\n",
       "</div>"
      ],
      "text/plain": [
       "                ANET        FN      ALAB      NVDA\n",
       "Date                                              \n",
       "2024-12-16  4.758149  5.470715  4.871220  4.882710\n",
       "2024-12-17  4.726945  5.445702  4.851561  4.870438\n",
       "2024-12-18  4.682779  5.445141  4.807866  4.859023\n",
       "2024-12-19  4.691990  5.406005  4.830551  4.872660\n",
       "2024-12-20  4.725705  5.399338  4.884089  4.902958\n",
       "2024-12-23  4.728184  5.397665  4.909488  4.939190\n",
       "2024-12-24  4.741884  5.399248  4.953006  4.943121\n",
       "2024-12-26  4.743714  5.412315  4.982304  4.941050\n",
       "2024-12-27  4.727653  5.391216  4.952512  4.919962\n",
       "2024-12-30  4.713576  5.369521  4.915738  4.923459"
      ]
     },
     "metadata": {},
     "output_type": "display_data"
    },
    {
     "name": "stderr",
     "output_type": "stream",
     "text": [
      "C:\\Users\\genin\\AppData\\Roaming\\Python\\Python313\\site-packages\\IPython\\core\\pylabtools.py:170: UserWarning:\n",
      "\n",
      "Glyph 128202 (\\N{BAR CHART}) missing from font(s) DejaVu Sans.\n",
      "\n"
     ]
    },
    {
     "data": {
      "image/png": "[encoded data removed]",
      "text/plain": [
       "<Figure size 1000x300 with 1 Axes>"
      ]
     },
     "metadata": {},
     "output_type": "display_data"
    }
   ],
   "source": [
    "# Raw\n",
    "display(df.tail(10))\n",
    "df.plot(title=\"📊 Raw Price History\", figsize=(10, 3))\n",
    "plt.grid(True)\n",
    "plt.show()\n",
    "\n",
    "# Normalized\n",
    "df_norm = df / df.iloc[0] * 100\n",
    "display(df_norm.tail(10))\n",
    "df_norm.plot(title=\"📊 Latest Normalized Prices (rebased to 100)\", figsize=(10, 3))\n",
    "plt.grid(True)\n",
    "plt.show()\n",
    "\n",
    "# Log scale\n",
    "df_log = np.log(df)\n",
    "display(df_log.tail(10))\n",
    "\n",
    "fig, ax = plt.subplots(figsize=(10, 3))\n",
    "df.plot(ax=ax, logy=True)\n",
    "ax.set_title(\"📊 Log Price History\")\n",
    "ax.grid(True)\n",
    "ax.legend(loc=\"upper center\", bbox_to_anchor=(0.5, -0.3), ncol=min(4, len(df.columns)), frameon=False, fontsize=8)\n",
    "plt.show()\n"
   ]
  },
  {
   "cell_type": "markdown",
   "id": "97d1e8f3",
   "metadata": {},
   "source": [
    "Return Calculation (based on frequency and method)"
   ]
  },
  {
   "cell_type": "code",
   "execution_count": 31,
   "id": "89db68c2",
   "metadata": {},
   "outputs": [
    {
     "name": "stdout",
     "output_type": "stream",
     "text": [
      "⚠️ Fewer than 30 data points — correlation may be unreliable.\n"
     ]
    },
    {
     "name": "stderr",
     "output_type": "stream",
     "text": [
      "C:\\Users\\genin\\AppData\\Local\\Temp\\ipykernel_17508\\4040831747.py:4: FutureWarning:\n",
      "\n",
      "'M' is deprecated and will be removed in a future version, please use 'ME' instead.\n",
      "\n"
     ]
    },
    {
     "data": {
      "text/html": [
       "<div>\n",
       "<style scoped>\n",
       "    .dataframe tbody tr th:only-of-type {\n",
       "        vertical-align: middle;\n",
       "    }\n",
       "\n",
       "    .dataframe tbody tr th {\n",
       "        vertical-align: top;\n",
       "    }\n",
       "\n",
       "    .dataframe thead th {\n",
       "        text-align: right;\n",
       "    }\n",
       "</style>\n",
       "<table border=\"1\" class=\"dataframe\">\n",
       "  <thead>\n",
       "    <tr style=\"text-align: right;\">\n",
       "      <th></th>\n",
       "      <th>ANET</th>\n",
       "      <th>FN</th>\n",
       "      <th>ALAB</th>\n",
       "      <th>NVDA</th>\n",
       "    </tr>\n",
       "    <tr>\n",
       "      <th>Date</th>\n",
       "      <th></th>\n",
       "      <th></th>\n",
       "      <th></th>\n",
       "      <th></th>\n",
       "    </tr>\n",
       "  </thead>\n",
       "  <tbody>\n",
       "    <tr>\n",
       "      <th>2024-08-31</th>\n",
       "      <td>0.019709</td>\n",
       "      <td>0.104688</td>\n",
       "      <td>-0.017792</td>\n",
       "      <td>0.020082</td>\n",
       "    </tr>\n",
       "    <tr>\n",
       "      <th>2024-09-30</th>\n",
       "      <td>0.086140</td>\n",
       "      <td>-0.029592</td>\n",
       "      <td>0.216674</td>\n",
       "      <td>0.017428</td>\n",
       "    </tr>\n",
       "    <tr>\n",
       "      <th>2024-10-31</th>\n",
       "      <td>0.006826</td>\n",
       "      <td>0.019159</td>\n",
       "      <td>0.339187</td>\n",
       "      <td>0.093215</td>\n",
       "    </tr>\n",
       "    <tr>\n",
       "      <th>2024-11-30</th>\n",
       "      <td>0.050150</td>\n",
       "      <td>-0.026518</td>\n",
       "      <td>0.471636</td>\n",
       "      <td>0.041353</td>\n",
       "    </tr>\n",
       "    <tr>\n",
       "      <th>2024-12-31</th>\n",
       "      <td>0.098517</td>\n",
       "      <td>-0.084491</td>\n",
       "      <td>0.321259</td>\n",
       "      <td>-0.005429</td>\n",
       "    </tr>\n",
       "  </tbody>\n",
       "</table>\n",
       "</div>"
      ],
      "text/plain": [
       "                ANET        FN      ALAB      NVDA\n",
       "Date                                              \n",
       "2024-08-31  0.019709  0.104688 -0.017792  0.020082\n",
       "2024-09-30  0.086140 -0.029592  0.216674  0.017428\n",
       "2024-10-31  0.006826  0.019159  0.339187  0.093215\n",
       "2024-11-30  0.050150 -0.026518  0.471636  0.041353\n",
       "2024-12-31  0.098517 -0.084491  0.321259 -0.005429"
      ]
     },
     "execution_count": 31,
     "metadata": {},
     "output_type": "execute_result"
    }
   ],
   "source": [
    "if freq == \"Daily\":\n",
    "    temp = df\n",
    "elif freq == \"Monthly\":\n",
    "    temp = df.resample(\"M\").last()\n",
    "elif freq == \"Yearly\":\n",
    "    temp = df.resample(\"Y\").last()\n",
    "\n",
    "if abs_or_pct == \"% Change (Relative)\":\n",
    "    if freq == \"Yearly\" and overlap == \"Yes\":\n",
    "        returns = df.pct_change(252).dropna()\n",
    "    else:\n",
    "        returns = temp.pct_change().dropna()\n",
    "else:\n",
    "    returns = temp.diff().dropna()\n",
    "\n",
    "# 📏 Warn if not enough data points\n",
    "if len(returns) < 30:\n",
    "    print(\"⚠️ Fewer than 30 data points — correlation may be unreliable.\")\n",
    "\n",
    "returns.tail()\n"
   ]
  },
  {
   "cell_type": "markdown",
   "id": "d9d07143",
   "metadata": {},
   "source": [
    "Correlation Matrix"
   ]
  },
  {
   "cell_type": "code",
   "execution_count": 32,
   "id": "c4b059d5",
   "metadata": {},
   "outputs": [
    {
     "data": {
      "text/html": [
       "<div>\n",
       "<style scoped>\n",
       "    .dataframe tbody tr th:only-of-type {\n",
       "        vertical-align: middle;\n",
       "    }\n",
       "\n",
       "    .dataframe tbody tr th {\n",
       "        vertical-align: top;\n",
       "    }\n",
       "\n",
       "    .dataframe thead th {\n",
       "        text-align: right;\n",
       "    }\n",
       "</style>\n",
       "<table border=\"1\" class=\"dataframe\">\n",
       "  <thead>\n",
       "    <tr style=\"text-align: right;\">\n",
       "      <th></th>\n",
       "      <th>Stock A</th>\n",
       "      <th>Stock B</th>\n",
       "      <th>Correlation</th>\n",
       "    </tr>\n",
       "  </thead>\n",
       "  <tbody>\n",
       "    <tr>\n",
       "      <th>5</th>\n",
       "      <td>FN</td>\n",
       "      <td>NVDA</td>\n",
       "      <td>0.890757</td>\n",
       "    </tr>\n",
       "    <tr>\n",
       "      <th>2</th>\n",
       "      <td>ANET</td>\n",
       "      <td>NVDA</td>\n",
       "      <td>0.700016</td>\n",
       "    </tr>\n",
       "    <tr>\n",
       "      <th>0</th>\n",
       "      <td>ANET</td>\n",
       "      <td>FN</td>\n",
       "      <td>0.508827</td>\n",
       "    </tr>\n",
       "    <tr>\n",
       "      <th>6</th>\n",
       "      <td>ALAB</td>\n",
       "      <td>ANET</td>\n",
       "      <td>-0.176646</td>\n",
       "    </tr>\n",
       "    <tr>\n",
       "      <th>8</th>\n",
       "      <td>ALAB</td>\n",
       "      <td>NVDA</td>\n",
       "      <td>-0.272069</td>\n",
       "    </tr>\n",
       "  </tbody>\n",
       "</table>\n",
       "</div>"
      ],
      "text/plain": [
       "  Stock A Stock B  Correlation\n",
       "5      FN    NVDA     0.890757\n",
       "2    ANET    NVDA     0.700016\n",
       "0    ANET      FN     0.508827\n",
       "6    ALAB    ANET    -0.176646\n",
       "8    ALAB    NVDA    -0.272069"
      ]
     },
     "metadata": {},
     "output_type": "display_data"
    },
    {
     "data": {
      "text/html": [
       "<div>\n",
       "<style scoped>\n",
       "    .dataframe tbody tr th:only-of-type {\n",
       "        vertical-align: middle;\n",
       "    }\n",
       "\n",
       "    .dataframe tbody tr th {\n",
       "        vertical-align: top;\n",
       "    }\n",
       "\n",
       "    .dataframe thead th {\n",
       "        text-align: right;\n",
       "    }\n",
       "</style>\n",
       "<table border=\"1\" class=\"dataframe\">\n",
       "  <thead>\n",
       "    <tr style=\"text-align: right;\">\n",
       "      <th></th>\n",
       "      <th>Stock A</th>\n",
       "      <th>Stock B</th>\n",
       "      <th>Correlation</th>\n",
       "    </tr>\n",
       "  </thead>\n",
       "  <tbody>\n",
       "    <tr>\n",
       "      <th>7</th>\n",
       "      <td>ALAB</td>\n",
       "      <td>FN</td>\n",
       "      <td>-0.441435</td>\n",
       "    </tr>\n",
       "    <tr>\n",
       "      <th>8</th>\n",
       "      <td>ALAB</td>\n",
       "      <td>NVDA</td>\n",
       "      <td>-0.272069</td>\n",
       "    </tr>\n",
       "    <tr>\n",
       "      <th>6</th>\n",
       "      <td>ALAB</td>\n",
       "      <td>ANET</td>\n",
       "      <td>-0.176646</td>\n",
       "    </tr>\n",
       "    <tr>\n",
       "      <th>0</th>\n",
       "      <td>ANET</td>\n",
       "      <td>FN</td>\n",
       "      <td>0.508827</td>\n",
       "    </tr>\n",
       "    <tr>\n",
       "      <th>2</th>\n",
       "      <td>ANET</td>\n",
       "      <td>NVDA</td>\n",
       "      <td>0.700016</td>\n",
       "    </tr>\n",
       "  </tbody>\n",
       "</table>\n",
       "</div>"
      ],
      "text/plain": [
       "  Stock A Stock B  Correlation\n",
       "7    ALAB      FN    -0.441435\n",
       "8    ALAB    NVDA    -0.272069\n",
       "6    ALAB    ANET    -0.176646\n",
       "0    ANET      FN     0.508827\n",
       "2    ANET    NVDA     0.700016"
      ]
     },
     "metadata": {},
     "output_type": "display_data"
    },
    {
     "data": {
      "text/html": [
       "<div>\n",
       "<style scoped>\n",
       "    .dataframe tbody tr th:only-of-type {\n",
       "        vertical-align: middle;\n",
       "    }\n",
       "\n",
       "    .dataframe tbody tr th {\n",
       "        vertical-align: top;\n",
       "    }\n",
       "\n",
       "    .dataframe thead th {\n",
       "        text-align: right;\n",
       "    }\n",
       "</style>\n",
       "<table border=\"1\" class=\"dataframe\">\n",
       "  <thead>\n",
       "    <tr style=\"text-align: right;\">\n",
       "      <th></th>\n",
       "      <th>Stock A</th>\n",
       "      <th>Stock B</th>\n",
       "      <th>Correlation</th>\n",
       "    </tr>\n",
       "  </thead>\n",
       "  <tbody>\n",
       "    <tr>\n",
       "      <th>5</th>\n",
       "      <td>FN</td>\n",
       "      <td>NVDA</td>\n",
       "      <td>0.890757</td>\n",
       "    </tr>\n",
       "  </tbody>\n",
       "</table>\n",
       "</div>"
      ],
      "text/plain": [
       "  Stock A Stock B  Correlation\n",
       "5      FN    NVDA     0.890757"
      ]
     },
     "metadata": {},
     "output_type": "display_data"
    },
    {
     "data": {
      "application/vnd.plotly.v1+json": {
       "config": {
        "plotlyServerURL": "https://plot.ly"
       },
       "data": [
        {
         "coloraxis": "coloraxis",
         "hovertemplate": "x: %{x}<br>y: %{y}<br>color: %{z}<extra></extra>",
         "name": "0",
         "texttemplate": "%{z:.2f}",
         "type": "heatmap",
         "x": [
          "ANET",
          "FN",
          "ALAB",
          "NVDA"
         ],
         "xaxis": "x",
         "y": [
          "ANET",
          "FN",
          "ALAB",
          "NVDA"
         ],
         "yaxis": "y",
         "z": {
          "bdata": "AAAAAAAA8D8E8wqpT0jgP4/8nTdVnMa/yxCzz4hm5j8E8wqpT0jgPwAAAAAAAPA/1yyYgXhA3L+APmbGFIHsP4/8nTdVnMa/1yyYgXhA3L8AAAAAAADwPz4iDjOUadG/yxCzz4hm5j+APmbGFIHsPz4iDjOUadG/AAAAAAAA8D8=",
          "dtype": "f8",
          "shape": "4, 4"
         }
        }
       ],
       "layout": {
        "coloraxis": {
         "colorscale": [
          [
           0,
           "rgb(5,48,97)"
          ],
          [
           0.1,
           "rgb(33,102,172)"
          ],
          [
           0.2,
           "rgb(67,147,195)"
          ],
          [
           0.3,
           "rgb(146,197,222)"
          ],
          [
           0.4,
           "rgb(209,229,240)"
          ],
          [
           0.5,
           "rgb(247,247,247)"
          ],
          [
           0.6,
           "rgb(253,219,199)"
          ],
          [
           0.7,
           "rgb(244,165,130)"
          ],
          [
           0.8,
           "rgb(214,96,77)"
          ],
          [
           0.9,
           "rgb(178,24,43)"
          ],
          [
           1,
           "rgb(103,0,31)"
          ]
         ]
        },
        "template": {
         "data": {
          "bar": [
           {
            "error_x": {
             "color": "#2a3f5f"
            },
            "error_y": {
             "color": "#2a3f5f"
            },
            "marker": {
             "line": {
              "color": "#E5ECF6",
              "width": 0.5
             },
             "pattern": {
              "fillmode": "overlay",
              "size": 10,
              "solidity": 0.2
             }
            },
            "type": "bar"
           }
          ],
          "barpolar": [
           {
            "marker": {
             "line": {
              "color": "#E5ECF6",
              "width": 0.5
             },
             "pattern": {
              "fillmode": "overlay",
              "size": 10,
              "solidity": 0.2
             }
            },
            "type": "barpolar"
           }
          ],
          "carpet": [
           {
            "aaxis": {
             "endlinecolor": "#2a3f5f",
             "gridcolor": "white",
             "linecolor": "white",
             "minorgridcolor": "white",
             "startlinecolor": "#2a3f5f"
            },
            "baxis": {
             "endlinecolor": "#2a3f5f",
             "gridcolor": "white",
             "linecolor": "white",
             "minorgridcolor": "white",
             "startlinecolor": "#2a3f5f"
            },
            "type": "carpet"
           }
          ],
          "choropleth": [
           {
            "colorbar": {
             "outlinewidth": 0,
             "ticks": ""
            },
            "type": "choropleth"
           }
          ],
          "contour": [
           {
            "colorbar": {
             "outlinewidth": 0,
             "ticks": ""
            },
            "colorscale": [
             [
              0,
              "#0d0887"
             ],
             [
              0.1111111111111111,
              "#46039f"
             ],
             [
              0.2222222222222222,
              "#7201a8"
             ],
             [
              0.3333333333333333,
              "#9c179e"
             ],
             [
              0.4444444444444444,
              "#bd3786"
             ],
             [
              0.5555555555555556,
              "#d8576b"
             ],
             [
              0.6666666666666666,
              "#ed7953"
             ],
             [
              0.7777777777777778,
              "#fb9f3a"
             ],
             [
              0.8888888888888888,
              "#fdca26"
             ],
             [
              1,
              "#f0f921"
             ]
            ],
            "type": "contour"
           }
          ],
          "contourcarpet": [
           {
            "colorbar": {
             "outlinewidth": 0,
             "ticks": ""
            },
            "type": "contourcarpet"
           }
          ],
          "heatmap": [
           {
            "colorbar": {
             "outlinewidth": 0,
             "ticks": ""
            },
            "colorscale": [
             [
              0,
              "#0d0887"
             ],
             [
              0.1111111111111111,
              "#46039f"
             ],
             [
              0.2222222222222222,
              "#7201a8"
             ],
             [
              0.3333333333333333,
              "#9c179e"
             ],
             [
              0.4444444444444444,
              "#bd3786"
             ],
             [
              0.5555555555555556,
              "#d8576b"
             ],
             [
              0.6666666666666666,
              "#ed7953"
             ],
             [
              0.7777777777777778,
              "#fb9f3a"
             ],
             [
              0.8888888888888888,
              "#fdca26"
             ],
             [
              1,
              "#f0f921"
             ]
            ],
            "type": "heatmap"
           }
          ],
          "histogram": [
           {
            "marker": {
             "pattern": {
              "fillmode": "overlay",
              "size": 10,
              "solidity": 0.2
             }
            },
            "type": "histogram"
           }
          ],
          "histogram2d": [
           {
            "colorbar": {
             "outlinewidth": 0,
             "ticks": ""
            },
            "colorscale": [
             [
              0,
              "#0d0887"
             ],
             [
              0.1111111111111111,
              "#46039f"
             ],
             [
              0.2222222222222222,
              "#7201a8"
             ],
             [
              0.3333333333333333,
              "#9c179e"
             ],
             [
              0.4444444444444444,
              "#bd3786"
             ],
             [
              0.5555555555555556,
              "#d8576b"
             ],
             [
              0.6666666666666666,
              "#ed7953"
             ],
             [
              0.7777777777777778,
              "#fb9f3a"
             ],
             [
              0.8888888888888888,
              "#fdca26"
             ],
             [
              1,
              "#f0f921"
             ]
            ],
            "type": "histogram2d"
           }
          ],
          "histogram2dcontour": [
           {
            "colorbar": {
             "outlinewidth": 0,
             "ticks": ""
            },
            "colorscale": [
             [
              0,
              "#0d0887"
             ],
             [
              0.1111111111111111,
              "#46039f"
             ],
             [
              0.2222222222222222,
              "#7201a8"
             ],
             [
              0.3333333333333333,
              "#9c179e"
             ],
             [
              0.4444444444444444,
              "#bd3786"
             ],
             [
              0.5555555555555556,
              "#d8576b"
             ],
             [
              0.6666666666666666,
              "#ed7953"
             ],
             [
              0.7777777777777778,
              "#fb9f3a"
             ],
             [
              0.8888888888888888,
              "#fdca26"
             ],
             [
              1,
              "#f0f921"
             ]
            ],
            "type": "histogram2dcontour"
           }
          ],
          "mesh3d": [
           {
            "colorbar": {
             "outlinewidth": 0,
             "ticks": ""
            },
            "type": "mesh3d"
           }
          ],
          "parcoords": [
           {
            "line": {
             "colorbar": {
              "outlinewidth": 0,
              "ticks": ""
             }
            },
            "type": "parcoords"
           }
          ],
          "pie": [
           {
            "automargin": true,
            "type": "pie"
           }
          ],
          "scatter": [
           {
            "fillpattern": {
             "fillmode": "overlay",
             "size": 10,
             "solidity": 0.2
            },
            "type": "scatter"
           }
          ],
          "scatter3d": [
           {
            "line": {
             "colorbar": {
              "outlinewidth": 0,
              "ticks": ""
             }
            },
            "marker": {
             "colorbar": {
              "outlinewidth": 0,
              "ticks": ""
             }
            },
            "type": "scatter3d"
           }
          ],
          "scattercarpet": [
           {
            "marker": {
             "colorbar": {
              "outlinewidth": 0,
              "ticks": ""
             }
            },
            "type": "scattercarpet"
           }
          ],
          "scattergeo": [
           {
            "marker": {
             "colorbar": {
              "outlinewidth": 0,
              "ticks": ""
             }
            },
            "type": "scattergeo"
           }
          ],
          "scattergl": [
           {
            "marker": {
             "colorbar": {
              "outlinewidth": 0,
              "ticks": ""
             }
            },
            "type": "scattergl"
           }
          ],
          "scattermap": [
           {
            "marker": {
             "colorbar": {
              "outlinewidth": 0,
              "ticks": ""
             }
            },
            "type": "scattermap"
           }
          ],
          "scattermapbox": [
           {
            "marker": {
             "colorbar": {
              "outlinewidth": 0,
              "ticks": ""
             }
            },
            "type": "scattermapbox"
           }
          ],
          "scatterpolar": [
           {
            "marker": {
             "colorbar": {
              "outlinewidth": 0,
              "ticks": ""
             }
            },
            "type": "scatterpolar"
           }
          ],
          "scatterpolargl": [
           {
            "marker": {
             "colorbar": {
              "outlinewidth": 0,
              "ticks": ""
             }
            },
            "type": "scatterpolargl"
           }
          ],
          "scatterternary": [
           {
            "marker": {
             "colorbar": {
              "outlinewidth": 0,
              "ticks": ""
             }
            },
            "type": "scatterternary"
           }
          ],
          "surface": [
           {
            "colorbar": {
             "outlinewidth": 0,
             "ticks": ""
            },
            "colorscale": [
             [
              0,
              "#0d0887"
             ],
             [
              0.1111111111111111,
              "#46039f"
             ],
             [
              0.2222222222222222,
              "#7201a8"
             ],
             [
              0.3333333333333333,
              "#9c179e"
             ],
             [
              0.4444444444444444,
              "#bd3786"
             ],
             [
              0.5555555555555556,
              "#d8576b"
             ],
             [
              0.6666666666666666,
              "#ed7953"
             ],
             [
              0.7777777777777778,
              "#fb9f3a"
             ],
             [
              0.8888888888888888,
              "#fdca26"
             ],
             [
              1,
              "#f0f921"
             ]
            ],
            "type": "surface"
           }
          ],
          "table": [
           {
            "cells": {
             "fill": {
              "color": "#EBF0F8"
             },
             "line": {
              "color": "white"
             }
            },
            "header": {
             "fill": {
              "color": "#C8D4E3"
             },
             "line": {
              "color": "white"
             }
            },
            "type": "table"
           }
          ]
         },
         "layout": {
          "annotationdefaults": {
           "arrowcolor": "#2a3f5f",
           "arrowhead": 0,
           "arrowwidth": 1
          },
          "autotypenumbers": "strict",
          "coloraxis": {
           "colorbar": {
            "outlinewidth": 0,
            "ticks": ""
           }
          },
          "colorscale": {
           "diverging": [
            [
             0,
             "#8e0152"
            ],
            [
             0.1,
             "#c51b7d"
            ],
            [
             0.2,
             "#de77ae"
            ],
            [
             0.3,
             "#f1b6da"
            ],
            [
             0.4,
             "#fde0ef"
            ],
            [
             0.5,
             "#f7f7f7"
            ],
            [
             0.6,
             "#e6f5d0"
            ],
            [
             0.7,
             "#b8e186"
            ],
            [
             0.8,
             "#7fbc41"
            ],
            [
             0.9,
             "#4d9221"
            ],
            [
             1,
             "#276419"
            ]
           ],
           "sequential": [
            [
             0,
             "#0d0887"
            ],
            [
             0.1111111111111111,
             "#46039f"
            ],
            [
             0.2222222222222222,
             "#7201a8"
            ],
            [
             0.3333333333333333,
             "#9c179e"
            ],
            [
             0.4444444444444444,
             "#bd3786"
            ],
            [
             0.5555555555555556,
             "#d8576b"
            ],
            [
             0.6666666666666666,
             "#ed7953"
            ],
            [
             0.7777777777777778,
             "#fb9f3a"
            ],
            [
             0.8888888888888888,
             "#fdca26"
            ],
            [
             1,
             "#f0f921"
            ]
           ],
           "sequentialminus": [
            [
             0,
             "#0d0887"
            ],
            [
             0.1111111111111111,
             "#46039f"
            ],
            [
             0.2222222222222222,
             "#7201a8"
            ],
            [
             0.3333333333333333,
             "#9c179e"
            ],
            [
             0.4444444444444444,
             "#bd3786"
            ],
            [
             0.5555555555555556,
             "#d8576b"
            ],
            [
             0.6666666666666666,
             "#ed7953"
            ],
            [
             0.7777777777777778,
             "#fb9f3a"
            ],
            [
             0.8888888888888888,
             "#fdca26"
            ],
            [
             1,
             "#f0f921"
            ]
           ]
          },
          "colorway": [
           "#636efa",
           "#EF553B",
           "#00cc96",
           "#ab63fa",
           "#FFA15A",
           "#19d3f3",
           "#FF6692",
           "#B6E880",
           "#FF97FF",
           "#FECB52"
          ],
          "font": {
           "color": "#2a3f5f"
          },
          "geo": {
           "bgcolor": "white",
           "lakecolor": "white",
           "landcolor": "#E5ECF6",
           "showlakes": true,
           "showland": true,
           "subunitcolor": "white"
          },
          "hoverlabel": {
           "align": "left"
          },
          "hovermode": "closest",
          "mapbox": {
           "style": "light"
          },
          "paper_bgcolor": "white",
          "plot_bgcolor": "#E5ECF6",
          "polar": {
           "angularaxis": {
            "gridcolor": "white",
            "linecolor": "white",
            "ticks": ""
           },
           "bgcolor": "#E5ECF6",
           "radialaxis": {
            "gridcolor": "white",
            "linecolor": "white",
            "ticks": ""
           }
          },
          "scene": {
           "xaxis": {
            "backgroundcolor": "#E5ECF6",
            "gridcolor": "white",
            "gridwidth": 2,
            "linecolor": "white",
            "showbackground": true,
            "ticks": "",
            "zerolinecolor": "white"
           },
           "yaxis": {
            "backgroundcolor": "#E5ECF6",
            "gridcolor": "white",
            "gridwidth": 2,
            "linecolor": "white",
            "showbackground": true,
            "ticks": "",
            "zerolinecolor": "white"
           },
           "zaxis": {
            "backgroundcolor": "#E5ECF6",
            "gridcolor": "white",
            "gridwidth": 2,
            "linecolor": "white",
            "showbackground": true,
            "ticks": "",
            "zerolinecolor": "white"
           }
          },
          "shapedefaults": {
           "line": {
            "color": "#2a3f5f"
           }
          },
          "ternary": {
           "aaxis": {
            "gridcolor": "white",
            "linecolor": "white",
            "ticks": ""
           },
           "baxis": {
            "gridcolor": "white",
            "linecolor": "white",
            "ticks": ""
           },
           "bgcolor": "#E5ECF6",
           "caxis": {
            "gridcolor": "white",
            "linecolor": "white",
            "ticks": ""
           }
          },
          "title": {
           "x": 0.05
          },
          "xaxis": {
           "automargin": true,
           "gridcolor": "white",
           "linecolor": "white",
           "ticks": "",
           "title": {
            "standoff": 15
           },
           "zerolinecolor": "white",
           "zerolinewidth": 2
          },
          "yaxis": {
           "automargin": true,
           "gridcolor": "white",
           "linecolor": "white",
           "ticks": "",
           "title": {
            "standoff": 15
           },
           "zerolinecolor": "white",
           "zerolinewidth": 2
          }
         }
        },
        "title": {
         "text": "Pearson Correlation Matrix"
        },
        "xaxis": {
         "anchor": "y",
         "domain": [
          0,
          1
         ]
        },
        "yaxis": {
         "anchor": "x",
         "autorange": "reversed",
         "domain": [
          0,
          1
         ]
        }
       }
      }
     },
     "metadata": {},
     "output_type": "display_data"
    }
   ],
   "source": [
    "corr = returns.corr(method=corr_type.lower())\n",
    "\n",
    "# Key correlation highlights\n",
    "corr_pairs = corr.where(~np.eye(len(corr), dtype=bool))\n",
    "corr_flat = corr_pairs.unstack().dropna().reset_index()\n",
    "corr_flat.columns = ['Stock A', 'Stock B', 'Correlation']\n",
    "corr_flat = corr_flat[corr_flat['Stock A'] < corr_flat['Stock B']]\n",
    "\n",
    "# Top positive/negative\n",
    "display(corr_flat.sort_values(\"Correlation\", ascending=False).head(5))\n",
    "display(corr_flat.sort_values(\"Correlation\", ascending=True).head(5))\n",
    "\n",
    "# Strong correlations\n",
    "threshold = 0.8\n",
    "strong_corr = corr_flat[abs(corr_flat[\"Correlation\"]) > threshold]\n",
    "display(strong_corr)\n",
    "\n",
    "# Correlation matrix heatmap\n",
    "px.imshow(\n",
    "    corr, text_auto=\".2f\", color_continuous_scale=\"RdBu_r\", aspect=\"auto\", title=f\"{corr_type} Correlation Matrix\"\n",
    ").show()"
   ]
  },
  {
   "cell_type": "markdown",
   "id": "9a7babd8",
   "metadata": {},
   "source": [
    "Rolling Correlation"
   ]
  },
  {
   "cell_type": "code",
   "execution_count": 33,
   "id": "207ad1c0",
   "metadata": {},
   "outputs": [
    {
     "name": "stderr",
     "output_type": "stream",
     "text": [
      "C:\\Users\\genin\\AppData\\Roaming\\Python\\Python313\\site-packages\\IPython\\core\\pylabtools.py:170: UserWarning:\n",
      "\n",
      "Glyph 128257 (\\N{CLOCKWISE RIGHTWARDS AND LEFTWARDS OPEN CIRCLE ARROWS}) missing from font(s) DejaVu Sans.\n",
      "\n",
      "C:\\Users\\genin\\AppData\\Roaming\\Python\\Python313\\site-packages\\IPython\\core\\pylabtools.py:170: UserWarning:\n",
      "\n",
      "Glyph 128257 (\\N{CLOCKWISE RIGHTWARDS AND LEFTWARDS OPEN CIRCLE ARROWS}) missing from font(s) DejaVu Sans.\n",
      "\n",
      "C:\\Users\\genin\\AppData\\Roaming\\Python\\Python313\\site-packages\\IPython\\core\\pylabtools.py:170: UserWarning:\n",
      "\n",
      "Glyph 128257 (\\N{CLOCKWISE RIGHTWARDS AND LEFTWARDS OPEN CIRCLE ARROWS}) missing from font(s) DejaVu Sans.\n",
      "\n"
     ]
    },
    {
     "data": {
      "image/png": "[encoded data removed]",
      "text/plain": [
       "<Figure size 1000x300 with 1 Axes>"
      ]
     },
     "metadata": {},
     "output_type": "display_data"
    }
   ],
   "source": [
    "#dyanamic version\n",
    "if len(tickers) >= 2:\n",
    "    t1, t2 = tickers[0], tickers[1]\n",
    "    rolling = returns[t1].rolling(window).corr(returns[t2])\n",
    "    rolling.plot(title=f\"🔁 Rolling Correlation: {t1} vs {t2}\", figsize=(10, 3))\n",
    "    plt.axhline(0, linestyle=\"--\", color=\"gray\")\n",
    "    plt.grid(True)\n",
    "    plt.show()\n"
   ]
  },
  {
   "cell_type": "markdown",
   "id": "4e8d6b50",
   "metadata": {},
   "source": [
    "Risk Metrics & Portfolio Optimization"
   ]
  },
  {
   "cell_type": "code",
   "execution_count": 34,
   "id": "fe4ecab9",
   "metadata": {},
   "outputs": [
    {
     "data": {
      "text/html": [
       "<div>\n",
       "<style scoped>\n",
       "    .dataframe tbody tr th:only-of-type {\n",
       "        vertical-align: middle;\n",
       "    }\n",
       "\n",
       "    .dataframe tbody tr th {\n",
       "        vertical-align: top;\n",
       "    }\n",
       "\n",
       "    .dataframe thead th {\n",
       "        text-align: right;\n",
       "    }\n",
       "</style>\n",
       "<table border=\"1\" class=\"dataframe\">\n",
       "  <thead>\n",
       "    <tr style=\"text-align: right;\">\n",
       "      <th></th>\n",
       "      <th>VaR_0.05</th>\n",
       "      <th>CVaR_0.05</th>\n",
       "      <th>Sharpe</th>\n",
       "    </tr>\n",
       "  </thead>\n",
       "  <tbody>\n",
       "    <tr>\n",
       "      <th>ANET</th>\n",
       "      <td>-0.0736</td>\n",
       "      <td>-0.1152</td>\n",
       "      <td>9.1880</td>\n",
       "    </tr>\n",
       "    <tr>\n",
       "      <th>FN</th>\n",
       "      <td>-0.0932</td>\n",
       "      <td>-0.0990</td>\n",
       "      <td>2.4192</td>\n",
       "    </tr>\n",
       "    <tr>\n",
       "      <th>ALAB</th>\n",
       "      <td>-0.2607</td>\n",
       "      <td>-0.2755</td>\n",
       "      <td>6.0034</td>\n",
       "    </tr>\n",
       "    <tr>\n",
       "      <th>NVDA</th>\n",
       "      <td>-0.0492</td>\n",
       "      <td>-0.0528</td>\n",
       "      <td>8.2120</td>\n",
       "    </tr>\n",
       "  </tbody>\n",
       "</table>\n",
       "</div>"
      ],
      "text/plain": [
       "      VaR_0.05  CVaR_0.05  Sharpe\n",
       "ANET   -0.0736    -0.1152  9.1880\n",
       "FN     -0.0932    -0.0990  2.4192\n",
       "ALAB   -0.2607    -0.2755  6.0034\n",
       "NVDA   -0.0492    -0.0528  8.2120"
      ]
     },
     "metadata": {},
     "output_type": "display_data"
    },
    {
     "data": {
      "text/html": [
       "<div>\n",
       "<style scoped>\n",
       "    .dataframe tbody tr th:only-of-type {\n",
       "        vertical-align: middle;\n",
       "    }\n",
       "\n",
       "    .dataframe tbody tr th {\n",
       "        vertical-align: top;\n",
       "    }\n",
       "\n",
       "    .dataframe thead th {\n",
       "        text-align: right;\n",
       "    }\n",
       "</style>\n",
       "<table border=\"1\" class=\"dataframe\">\n",
       "  <thead>\n",
       "    <tr style=\"text-align: right;\">\n",
       "      <th></th>\n",
       "      <th>ANET</th>\n",
       "      <th>FN</th>\n",
       "      <th>ALAB</th>\n",
       "      <th>NVDA</th>\n",
       "    </tr>\n",
       "  </thead>\n",
       "  <tbody>\n",
       "    <tr>\n",
       "      <th>weights</th>\n",
       "      <td>0.4332</td>\n",
       "      <td>0.0</td>\n",
       "      <td>0.2017</td>\n",
       "      <td>0.3652</td>\n",
       "    </tr>\n",
       "  </tbody>\n",
       "</table>\n",
       "</div>"
      ],
      "text/plain": [
       "           ANET   FN    ALAB    NVDA\n",
       "weights  0.4332  0.0  0.2017  0.3652"
      ]
     },
     "metadata": {},
     "output_type": "display_data"
    },
    {
     "name": "stderr",
     "output_type": "stream",
     "text": [
      "C:\\Users\\genin\\AppData\\Roaming\\Python\\Python313\\site-packages\\IPython\\core\\pylabtools.py:170: UserWarning:\n",
      "\n",
      "Glyph 128200 (\\N{CHART WITH UPWARDS TREND}) missing from font(s) DejaVu Sans.\n",
      "\n",
      "C:\\Users\\genin\\AppData\\Roaming\\Python\\Python313\\site-packages\\IPython\\core\\pylabtools.py:170: UserWarning:\n",
      "\n",
      "Glyph 128200 (\\N{CHART WITH UPWARDS TREND}) missing from font(s) DejaVu Sans.\n",
      "\n",
      "C:\\Users\\genin\\AppData\\Roaming\\Python\\Python313\\site-packages\\IPython\\core\\pylabtools.py:170: UserWarning:\n",
      "\n",
      "Glyph 128200 (\\N{CHART WITH UPWARDS TREND}) missing from font(s) DejaVu Sans.\n",
      "\n"
     ]
    },
    {
     "data": {
      "image/png": "[encoded data removed]",
      "text/plain": [
       "<Figure size 1000x300 with 1 Axes>"
      ]
     },
     "metadata": {},
     "output_type": "display_data"
    },
    {
     "name": "stderr",
     "output_type": "stream",
     "text": [
      "C:\\Users\\genin\\AppData\\Roaming\\Python\\Python313\\site-packages\\IPython\\core\\pylabtools.py:170: UserWarning:\n",
      "\n",
      "Glyph 128201 (\\N{CHART WITH DOWNWARDS TREND}) missing from font(s) DejaVu Sans.\n",
      "\n",
      "C:\\Users\\genin\\AppData\\Roaming\\Python\\Python313\\site-packages\\IPython\\core\\pylabtools.py:170: UserWarning:\n",
      "\n",
      "Glyph 128201 (\\N{CHART WITH DOWNWARDS TREND}) missing from font(s) DejaVu Sans.\n",
      "\n",
      "C:\\Users\\genin\\AppData\\Roaming\\Python\\Python313\\site-packages\\IPython\\core\\pylabtools.py:170: UserWarning:\n",
      "\n",
      "Glyph 128201 (\\N{CHART WITH DOWNWARDS TREND}) missing from font(s) DejaVu Sans.\n",
      "\n"
     ]
    },
    {
     "data": {
      "image/png": "[encoded data removed]",
      "text/plain": [
       "<Figure size 1000x300 with 1 Axes>"
      ]
     },
     "metadata": {},
     "output_type": "display_data"
    },
    {
     "name": "stderr",
     "output_type": "stream",
     "text": [
      "C:\\Users\\genin\\AppData\\Local\\Temp\\ipykernel_17508\\3527328989.py:34: FutureWarning:\n",
      "\n",
      "'M' is deprecated and will be removed in a future version, please use 'ME' instead.\n",
      "\n",
      "C:\\Users\\genin\\AppData\\Roaming\\Python\\Python313\\site-packages\\IPython\\core\\pylabtools.py:170: UserWarning:\n",
      "\n",
      "Glyph 128257 (\\N{CLOCKWISE RIGHTWARDS AND LEFTWARDS OPEN CIRCLE ARROWS}) missing from font(s) DejaVu Sans.\n",
      "\n",
      "C:\\Users\\genin\\AppData\\Roaming\\Python\\Python313\\site-packages\\IPython\\core\\pylabtools.py:170: UserWarning:\n",
      "\n",
      "Glyph 128257 (\\N{CLOCKWISE RIGHTWARDS AND LEFTWARDS OPEN CIRCLE ARROWS}) missing from font(s) DejaVu Sans.\n",
      "\n",
      "C:\\Users\\genin\\AppData\\Roaming\\Python\\Python313\\site-packages\\IPython\\core\\pylabtools.py:170: UserWarning:\n",
      "\n",
      "Glyph 128257 (\\N{CLOCKWISE RIGHTWARDS AND LEFTWARDS OPEN CIRCLE ARROWS}) missing from font(s) DejaVu Sans.\n",
      "\n"
     ]
    },
    {
     "data": {
      "image/png": "[encoded data removed]",
      "text/plain": [
       "<Figure size 1000x300 with 1 Axes>"
      ]
     },
     "metadata": {},
     "output_type": "display_data"
    }
   ],
   "source": [
    "def get_risk_metrics(returns, alpha=0.05, rf=0.0):\n",
    "    metrics = {}\n",
    "    for col in returns.columns:\n",
    "        r = returns[col].dropna()\n",
    "        var = np.percentile(r, 100 * alpha)\n",
    "        cvar = r[r <= var].mean()\n",
    "        sharpe = (r.mean() - rf) / r.std() * np.sqrt(252)  # annualized Sharpe\n",
    "        metrics[col] = {\"VaR_0.05\": var, \"CVaR_0.05\": cvar, \"Sharpe\": sharpe}\n",
    "    return pd.DataFrame(metrics).T\n",
    "\n",
    "if riskfolio_available and len(tickers) > 1:\n",
    "    port = rp.Portfolio(returns=returns)\n",
    "    port.assets_stats(method_mu='hist', method_cov='hist')\n",
    "    risk = get_risk_metrics(returns)\n",
    "    display(risk.round(4))\n",
    "\n",
    "    w = port.optimization(model=\"Classic\", rm=\"MV\", obj=\"Sharpe\", hist=True)\n",
    "    display(w.T.round(4))\n",
    "\n",
    "    selected_tickers = w[w > 0].index.tolist()\n",
    "    selected_weights = w.loc[selected_tickers].values.flatten()  # 🔧 flatten to 1D\n",
    "\n",
    "    weighted_returns = returns[selected_tickers].mul(selected_weights, axis=1).sum(axis=1)\n",
    "    cumulative_returns = (1 + weighted_returns).cumprod()\n",
    "    cumulative_returns.plot(title=\"📈 Optimized Portfolio Cumulative Returns\", figsize=(10, 3))\n",
    "    plt.grid(True)\n",
    "    plt.show()\n",
    "\n",
    "    drawdown = (cumulative_returns - cumulative_returns.cummax()) / cumulative_returns.cummax()\n",
    "    drawdown.plot(title=\"📉 Drawdown from Peak\", figsize=(10, 3), color=\"red\")\n",
    "    plt.grid(True)\n",
    "    plt.show()\n",
    "\n",
    "    rebalance_returns = weighted_returns.resample(\"M\").apply(lambda x: (1 + x).prod() - 1)\n",
    "    rebalance_cumulative = (1 + rebalance_returns).cumprod()\n",
    "    rebalance_cumulative.plot(title=\"🔁 Monthly Rebalanced Portfolio\", figsize=(10, 3))\n",
    "    plt.grid(True)\n",
    "    plt.show()\n",
    "else:\n",
    "    print(\"⚠️ Install riskfolio-lib to enable risk metrics and optimization.\")"
   ]
  }
 ],
 "metadata": {
  "kernelspec": {
   "display_name": "base",
   "language": "python",
   "name": "python3"
  },
  "language_info": {
   "codemirror_mode": {
    "name": "ipython",
    "version": 3
   },
   "file_extension": ".py",
   "mimetype": "text/x-python",
   "name": "python",
   "nbconvert_exporter": "python",
   "pygments_lexer": "ipython3",
   "version": "3.13.2"
  }
 },
 "nbformat": 4,
 "nbformat_minor": 5
}
