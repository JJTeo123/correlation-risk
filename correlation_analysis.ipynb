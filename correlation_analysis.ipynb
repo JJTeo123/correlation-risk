{
 "cells": [
  {
   "cell_type": "code",
   "execution_count": null,
   "id": "4488193d",
   "metadata": {},
   "outputs": [],
   "source": [
    "import yfinance as yf\n",
    "import pandas as pd\n",
    "import matplotlib.pyplot as plt\n",
    "import seaborn as sns\n",
    "\n",
    "try:\n",
    "    import riskfolio.Portfolio as pf\n",
    "    riskfolio_available = True\n",
    "except ImportError:\n",
    "    riskfolio_available = False\n"
   ]
  },
  {
   "cell_type": "code",
   "execution_count": null,
   "id": "1dbf4158",
   "metadata": {},
   "outputs": [],
   "source": [
    "tickers = {\n",
    "    \"Apple\": \"AAPL\",\n",
    "    \"Tesla\": \"TSLA\",\n",
    "    \"Microsoft\": \"MSFT\",\n",
    "    \"Amazon\": \"AMZN\",\n",
    "    \"NVIDIA\": \"NVDA\"\n",
    "}\n",
    "\n",
    "start_date = \"2020-01-01\"\n",
    "end_date = \"2025-01-01\"\n"
   ]
  },
  {
   "cell_type": "code",
   "execution_count": null,
   "id": "be990050",
   "metadata": {},
   "outputs": [],
   "source": [
    "data = {}\n",
    "for name, ticker in tickers.items():\n",
    "    print(f\"📥 Downloading {name} ({ticker})...\")\n",
    "    stock = yf.download(ticker, start=start_date, end=end_date, group_by=\"column\")\n",
    "\n",
    "    if not stock.empty:\n",
    "        if \"Adj Close\" in stock.columns:\n",
    "            data[name] = stock[\"Adj Close\"].squeeze()\n",
    "        elif \"Close\" in stock.columns:\n",
    "            print(f\"⚠️ {ticker} missing 'Adj Close'. Using 'Close' instead.\")\n",
    "            data[name] = stock[\"Close\"].squeeze()\n",
    "        else:\n",
    "            print(f\"❌ {ticker} has no valid price columns.\")\n",
    "    else:\n",
    "        print(f\"❌ No data returned for {ticker}\")\n"
   ]
  },
  {
   "cell_type": "code",
   "execution_count": null,
   "id": "89db68c2",
   "metadata": {},
   "outputs": [],
   "source": [
    "if len(data) == 0:\n",
    "    print(\"❌ No valid data downloaded.\")\n",
    "else:\n",
    "    price_df = pd.DataFrame(data).dropna()\n",
    "    price_df.to_csv(\"prices.csv\")\n",
    "    display(price_df.tail())\n"
   ]
  },
  {
   "cell_type": "code",
   "execution_count": null,
   "id": "9bd8d23a",
   "metadata": {},
   "outputs": [],
   "source": [
    "    returns = price_df.pct_change().dropna()\n",
    "    corr_matrix = returns.corr()\n",
    "    plt.figure(figsize=(10, 6))\n",
    "    sns.heatmap(corr_matrix, annot=True, cmap=\"coolwarm\", linewidths=0.5)\n",
    "    plt.title(\"🔗 Correlation Matrix of Daily Returns\")\n",
    "    plt.show()\n"
   ]
  },
  {
   "cell_type": "code",
   "execution_count": null,
   "id": "489b4a44",
   "metadata": {},
   "outputs": [],
   "source": [
    "    if \"Apple\" in returns.columns and \"NVIDIA\" in returns.columns:\n",
    "        roll_corr = returns[\"Apple\"].rolling(60).corr(returns[\"NVIDIA\"])\n",
    "        roll_corr.plot(title=\"🔁 60-Day Rolling Correlation: Apple vs NVIDIA\", figsize=(10, 4))\n",
    "        plt.axhline(0, color='gray', linestyle='--')\n",
    "        plt.grid(True)\n",
    "        plt.show()\n"
   ]
  },
  {
   "cell_type": "code",
   "execution_count": null,
   "id": "7c36bdf9",
   "metadata": {},
   "outputs": [],
   "source": [
    "    if riskfolio_available:\n",
    "        port = pf.Portfolio(returns=returns)\n",
    "        port.assets_stats(method_mu='hist', method_cov='hist')\n",
    "        risk = port.risk_measures(method='hist', rf=0)\n",
    "        display(risk[[\"VaR_0.05\", \"CVaR_0.05\", \"Sharpe\"]].round(4))\n",
    "\n",
    "        w = port.optimization(model=\"Classic\", rm=\"MV\", obj=\"Sharpe\", hist=True)\n",
    "        display(w.T.round(4))\n",
    "\n",
    "        port_weights = w[w > 0].index.tolist()\n",
    "        weighted_returns = returns[port_weights].mul(w.T[port_weights].values, axis=1).sum(axis=1)\n",
    "        cumulative_returns = (1 + weighted_returns).cumprod()\n",
    "        cumulative_returns.plot(title=\"📈 Optimized Portfolio Cumulative Returns\", figsize=(10, 4))\n",
    "        plt.grid(True)\n",
    "        plt.show()\n",
    "\n",
    "        drawdown = (cumulative_returns - cumulative_returns.cummax()) / cumulative_returns.cummax()\n",
    "        drawdown.plot(title=\"📉 Drawdown from Peak\", figsize=(10, 4), color=\"red\")\n",
    "        plt.grid(True)\n",
    "        plt.show()\n",
    "\n",
    "        rebalance_returns = weighted_returns.resample('M').apply(lambda x: (1 + x).prod() - 1)\n",
    "        rebalance_cumulative = (1 + rebalance_returns).cumprod()\n",
    "        rebalance_cumulative.plot(title=\"🔁 Monthly Rebalanced Portfolio\", figsize=(10, 4))\n",
    "        plt.grid(True)\n",
    "        plt.show()\n",
    "    else:\n",
    "        print(\"⚠️ Install riskfolio-lib to enable risk metrics and optimization.\")\n"
   ]
  }
 ],
 "metadata": {},
 "nbformat": 4,
 "nbformat_minor": 5
}
